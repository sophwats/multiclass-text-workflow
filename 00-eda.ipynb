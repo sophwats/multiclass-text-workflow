{
 "cells": [
  {
   "cell_type": "markdown",
   "metadata": {},
   "source": [
    "# Exploratory Data Analysis \n",
    "\n",
    "This notebook explores and transforms the multi-class data we will be using in the rest of the notebooks.\n",
    "\n",
    "**Note:** you will not be able to run this notebook yourself unless you download the [raw data](https://kdd.ics.uci.edu/databases/20newsgroups/20newsgroups.html). This notebook specifically uses the '20_newsgroups' data set and assumes it is saved in a subdirectory of the working directory. \n",
    "Downloading this data set is *not* required for the rest of the notebooks in this series, so feel free to simply read through this notebook without executing the cells. \n",
    "\n",
    "The data set consists of 20,000 messages taken from 20 Usenet newsgroups. Each message is stored in its own file."
   ]
  },
  {
   "cell_type": "markdown",
   "metadata": {},
   "source": [
    "In the next few cells we inspect the contents of some of the files:"
   ]
  },
  {
   "cell_type": "code",
   "execution_count": 1,
   "metadata": {},
   "outputs": [
    {
     "name": "stdout",
     "output_type": "stream",
     "text": [
      "Xref: cantaloupe.srv.cs.cmu.edu alt.atheism:51121 soc.motss:139944 rec.scouting:5318\n",
      "Newsgroups: alt.atheism,soc.motss,rec.scouting\n",
      "Path: cantaloupe.srv.cs.cmu.edu!crabapple.srv.cs.cmu.edu!fs7.ece.cmu.edu!europa.eng.gtefsd.com!howland.reston.ans.net!wupost!uunet!newsgate.watson.ibm.com!yktnews.watson.ibm.com!watson!Watson.Ibm.Com!strom\n",
      "From: strom@Watson.Ibm.Com (Rob Strom)\n",
      "Subject: Re: [soc.motss, et al.] \"Princeton axes matching funds for Boy Scouts\"\n",
      "Sender: @watson.ibm.com\n",
      "Message-ID: <1993Apr05.180116.43346@watson.ibm.com>\n",
      "Date: Mon, 05 Apr 93 18:01:16 GMT\n",
      "Distribution: usa\n",
      "References: <C47EFs.3q47@austin.ibm.com> <1993Mar22.033150.17345@cbnewsl.cb.att.com> <N4HY.93Apr5120934@harder.ccr-p.ida.org>\n",
      "Organization: IBM Research\n",
      "Lines: 15\n",
      "\n",
      "In article <N4HY.93Apr5120934@harder.ccr-p.ida.org>, n4hy@harder.ccr-p.ida.org (Bob McGwier) writes:\n",
      "\n",
      "|> [1] HOWEVER, I hate economic terrorism and political correctness\n",
      "|> worse than I hate this policy.  \n",
      "\n",
      "\n",
      "|> [2] A more effective approach is to stop donating\n",
      "|> to ANY organizating that directly or indirectly supports gay rights issues\n",
      "|> until they end the boycott on funding of scouts.  \n",
      "\n",
      "Can somebody reconcile the apparent contradiction between [1] and [2]?\n",
      "\n",
      "-- \n",
      "Rob Strom, strom@watson.ibm.com, (914) 784-7641\n",
      "IBM Research, 30 Saw Mill River Road, P.O. Box 704, Yorktown Heights, NY  10598\n",
      "\n"
     ]
    }
   ],
   "source": [
    "f = open('./20_newsgroups/alt.atheism/51121', 'r') \n",
    "lines = f.read()\n",
    "print(lines)\n",
    "f.close()"
   ]
  },
  {
   "cell_type": "code",
   "execution_count": 2,
   "metadata": {},
   "outputs": [
    {
     "name": "stdout",
     "output_type": "stream",
     "text": [
      "Xref: cantaloupe.srv.cs.cmu.edu alt.atheism:51121 soc.motss:139944 rec.scouting:5318\n",
      "Newsgroups: alt.atheism,soc.motss,rec.scouting\n",
      "Path: cantaloupe.srv.cs.cmu.edu!crabapple.srv.cs.cmu.edu!fs7.ece.cmu.edu!europa.eng.gtefsd.com!howland.reston.ans.net!wupost!uunet!newsgate.watson.ibm.com!yktnews.watson.ibm.com!watson!Watson.Ibm.Com!strom\n",
      "From: strom@Watson.Ibm.Com (Rob Strom)\n",
      "Subject: Re: [soc.motss, et al.] \"Princeton axes matching funds for Boy Scouts\"\n",
      "Sender: @watson.ibm.com\n",
      "Message-ID: <1993Apr05.180116.43346@watson.ibm.com>\n",
      "Date: Mon, 05 Apr 93 18:01:16 GMT\n",
      "Distribution: usa\n",
      "References: <C47EFs.3q47@austin.ibm.com> <1993Mar22.033150.17345@cbnewsl.cb.att.com> <N4HY.93Apr5120934@harder.ccr-p.ida.org>\n",
      "Organization: IBM Research\n",
      "Lines: 15\n",
      "\n",
      "In article <N4HY.93Apr5120934@harder.ccr-p.ida.org>, n4hy@harder.ccr-p.ida.org (Bob McGwier) writes:\n",
      "\n",
      "|> [1] HOWEVER, I hate economic terrorism and political correctness\n",
      "|> worse than I hate this policy.  \n",
      "\n",
      "\n",
      "|> [2] A more effective approach is to stop donating\n",
      "|> to ANY organizating that directly or indirectly supports gay rights issues\n",
      "|> until they end the boycott on funding of scouts.  \n",
      "\n",
      "Can somebody reconcile the apparent contradiction between [1] and [2]?\n",
      "\n",
      "-- \n",
      "Rob Strom, strom@watson.ibm.com, (914) 784-7641\n",
      "IBM Research, 30 Saw Mill River Road, P.O. Box 704, Yorktown Heights, NY  10598\n",
      "\n"
     ]
    }
   ],
   "source": [
    "f = open('./20_newsgroups/comp.graphics/37921', 'r') \n",
    "print(lines)\n",
    "f.close()"
   ]
  },
  {
   "cell_type": "code",
   "execution_count": 3,
   "metadata": {},
   "outputs": [
    {
     "name": "stdout",
     "output_type": "stream",
     "text": [
      "Xref: cantaloupe.srv.cs.cmu.edu comp.graphics:37930 comp.unix.aix:23730\n",
      "Path: cantaloupe.srv.cs.cmu.edu!crabapple.srv.cs.cmu.edu!fs7.ece.cmu.edu!europa.eng.gtefsd.com!howland.reston.ans.net!noc.near.net!uunet!mcsun!fuug!tahko.lpr.carel.fi!tahko.lpr.carel.fi!not-for-mail\n",
      "From: ari@tahko.lpr.carel.fi (Ari Suutari)\n",
      "Newsgroups: comp.graphics,comp.unix.aix\n",
      "Subject: Any graphics packages available for AIX ?\n",
      "Date: 6 Apr 1993 10:00:38 +0300\n",
      "Organization: Carelcomp Oy\n",
      "Lines: 24\n",
      "Message-ID: <1pr9qnINNiag@tahko.lpr.carel.fi>\n",
      "NNTP-Posting-Host: tahko.lpr.carel.fi\n",
      "Keywords: gks graphics\n",
      "\n",
      "\n",
      "\tDoes anybody know if there are any good 2d-graphics packages\n",
      "\tavailable for IBM RS/6000 & AIX ? I'm looking for something\n",
      "\tlike DEC's GKS or Hewlett-Packards Starbase, both of which\n",
      "\thave reasonably good support for different output devices\n",
      "\tlike plotters, terminals, X etc.\n",
      "\n",
      "\tI have tried also xgks from X11 distribution and IBM's implementation\n",
      "\tof Phigs. Both of them work but we require more output devices\n",
      "\tthan just X-windows.\n",
      "\n",
      "\tOur salesman at IBM was not very familiar with graphics and\n",
      "\tI am not expecting for any good solutions from there.\n",
      "\n",
      "\n",
      "\t\tAri\n",
      "\n",
      "---\n",
      "\n",
      "\tAri Suutari\t\t\tari@carel.fi\n",
      "\tCarelcomp Oy\n",
      "\tLappeenranta\n",
      "\tFINLAND\n",
      "\n",
      "\n"
     ]
    }
   ],
   "source": [
    "f = open('./20_newsgroups/comp.graphics/37930', 'r') \n",
    "lines = f.read()\n",
    "print(lines)\n",
    "f.close()"
   ]
  },
  {
   "cell_type": "markdown",
   "metadata": {},
   "source": [
    "If we look at the data above we see some structure:\n",
    "\n",
    "1. The file contains some information in headers.\n",
    "2. The message itself starts after a double line break. \n",
    "3. There is information in the 'Keywords' and the 'Subject' lines of the header which may be informative about the classification of the message. \n",
    "\n",
    "We will check a few more files to see if they exhibit the same structure:"
   ]
  },
  {
   "cell_type": "code",
   "execution_count": 4,
   "metadata": {},
   "outputs": [
    {
     "name": "stdout",
     "output_type": "stream",
     "text": [
      "Path: cantaloupe.srv.cs.cmu.edu!crabapple.srv.cs.cmu.edu!fs7.ece.cmu.edu!europa.eng.gtefsd.com!gatech!asuvax!cs.utexas.edu!zaphod.mps.ohio-state.edu!saimiri.primate.wisc.edu!usenet.coe.montana.edu!news.u.washington.edu!uw-beaver!cs.ubc.ca!unixg.ubc.ca!kakwa.ucs.ualberta.ca!ersys!joth\n",
      "From: joth@ersys.edmonton.ab.ca (Joe Tham)\n",
      "Newsgroups: comp.graphics\n",
      "Subject: Where can I find SIPP?\n",
      "Message-ID: <yFXJ2B2w165w@ersys.edmonton.ab.ca>\n",
      "Date: Mon, 05 Apr 93 14:58:21 MDT\n",
      "Organization: Edmonton Remote Systems #2, Edmonton, AB, Canada\n",
      "Lines: 11\n",
      "\n",
      "        I recently got a file describing a library of rendering routines \n",
      "called SIPP (SImple Polygon Processor).  Could anyone tell me where I can \n",
      "FTP the source code and which is the newest version around?\n",
      "        Also, I've never used Renderman so I was wondering if Renderman \n",
      "is like SIPP?  ie. a library of rendering routines which one uses to make \n",
      "a program that creates the image...\n",
      "\n",
      "                                        Thanks,  Joe Tham\n",
      "\n",
      "--\n",
      "Joe Tham              joth@ersys.edmonton.ab.ca \n",
      "\n"
     ]
    }
   ],
   "source": [
    "f = open('./20_newsgroups/comp.graphics/37916', 'r') \n",
    "lines = f.read()\n",
    "print(lines)\n",
    "f.close()"
   ]
  },
  {
   "cell_type": "code",
   "execution_count": 5,
   "metadata": {},
   "outputs": [
    {
     "name": "stdout",
     "output_type": "stream",
     "text": [
      "Path: cantaloupe.srv.cs.cmu.edu!rochester!udel!gatech!howland.reston.ans.net!usc!cs.utexas.edu!qt.cs.utexas.edu!news.Brown.EDU!noc.near.net!bigboote.WPI.EDU!bigwpi.WPI.EDU!kedz\n",
      "From: kedz@bigwpi.WPI.EDU (John Kedziora)\n",
      "Newsgroups: misc.forsale\n",
      "Subject: Motorcycle wanted.\n",
      "Date: 22 Feb 1993 14:22:51 GMT\n",
      "Organization: Worcester Polytechnic Institute\n",
      "Lines: 11\n",
      "Expires: 5/1/93\n",
      "Message-ID: <1manjr$ja0@bigboote.WPI.EDU>\n",
      "NNTP-Posting-Host: bigwpi.wpi.edu\n",
      "\n",
      "Sender: \n",
      "Followup-To:kedz@wpi.wpi.edu \n",
      "Distribution: ne\n",
      "Organization: Worcester Polytechnic Institute\n",
      "Keywords: \n",
      "\n",
      "I am looking for an inexpensive motorcycle, nothing fancy, have to be able to do all maintinence my self. looking in the <$400 range.\n",
      "\n",
      "if you can help me out, GREAT!, please reply by e-mail.\n",
      "\n",
      "\n",
      "\n"
     ]
    }
   ],
   "source": [
    "f = open('./20_newsgroups/misc.forsale/70337', 'r') \n",
    "lines = f.read()\n",
    "print(lines)\n",
    "f.close()"
   ]
  },
  {
   "cell_type": "code",
   "execution_count": 6,
   "metadata": {},
   "outputs": [
    {
     "name": "stdout",
     "output_type": "stream",
     "text": [
      "Path: cantaloupe.srv.cs.cmu.edu!das-news.harvard.edu!ogicse!usenet.coe.montana.edu!decwrl!sun-barr!male.EBay.Sun.COM!dswalker!donald\n",
      "From: donald@dswalker.EBay.Sun.COM (Don Walker)\n",
      "Newsgroups: misc.forsale\n",
      "Subject: Items for SALE\n",
      "Message-ID: <1ps3s4$6g@male.EBay.Sun.COM>\n",
      "Date: 6 Apr 93 14:25:08 GMT\n",
      "Article-I.D.: male.1ps3s4$6g\n",
      "Reply-To: donald@dswalker.EBay.Sun.COM\n",
      "Distribution: world\n",
      "Organization: Sun Microsystems, Inc.\n",
      "Lines: 19\n",
      "NNTP-Posting-Host: dswalker.ebay.sun.com\n",
      "\n",
      "\n",
      "                        ITEMS FOR SALE\n",
      "\n",
      "\n",
      "\n",
      "1. Howard Miller Clock. It chimes like a grandfather clock. $250\n",
      "\n",
      "2. Painting- A Tiger in the snow. It is a beautiful painting, the tiger\n",
      "   looks like it can jump off of the canvas and get you. $200\n",
      "\n",
      "3. Mens Diamond Ring, size 10 - $500\n",
      "a. 3 rows of diamonds\n",
      "b. 18k gold\n",
      "\n",
      "Call or email me.\n",
      "\n",
      "Donald Walker\n",
      "hm 408-263-3709\n",
      "wk 408-276-3618\n",
      "\n"
     ]
    }
   ],
   "source": [
    "f = open('./20_newsgroups/misc.forsale/74797', 'r') \n",
    "lines = f.read()\n",
    "print(lines)\n",
    "f.close()"
   ]
  },
  {
   "cell_type": "markdown",
   "metadata": {},
   "source": [
    "## Transforming the data\n",
    "\n",
    "We want to store the data in `pandas` `DataFrame`, with each message making up a row of the DataFrame. \n",
    "\n",
    "We will do this by first creating a list containing this information, then we will make a DataFrame from the list. \n",
    "\n",
    "For each file we:\n",
    "1. Extract the message by discarding everything before the first double line break,\n",
    "2. Extract the `Subject:` line,\n",
    "2. Extract the classification of the message from the filename. "
   ]
  },
  {
   "cell_type": "code",
   "execution_count": 7,
   "metadata": {},
   "outputs": [],
   "source": [
    "import os "
   ]
  },
  {
   "cell_type": "code",
   "execution_count": 8,
   "metadata": {},
   "outputs": [],
   "source": [
    "listOfFiles = list()\n",
    "for (dirpath, dirnames, filenames) in os.walk('./20_newsgroups'):\n",
    "    listOfFiles += [os.path.join(dirpath, file) for file in filenames]"
   ]
  },
  {
   "cell_type": "code",
   "execution_count": 9,
   "metadata": {},
   "outputs": [],
   "source": [
    "data=[]\n",
    "passed=[]\n",
    "for file in listOfFiles:\n",
    "    \n",
    "    f = open(file, 'r') \n",
    "    try:\n",
    "        lines = f.read()\n",
    "        data.append([lines.split('\\n\\n', 1)[1], lines.split('\\nSubject: ', 1)[1].split('\\n', 1)[0], file.split('/')[2]])\n",
    "    except:\n",
    "        passed.append(file.split('/')[2:])\n",
    "        pass\n",
    "    f.close()"
   ]
  },
  {
   "cell_type": "code",
   "execution_count": 10,
   "metadata": {},
   "outputs": [
    {
     "data": {
      "text/plain": [
       "19924"
      ]
     },
     "execution_count": 10,
     "metadata": {},
     "output_type": "execute_result"
    }
   ],
   "source": [
    "len(data)"
   ]
  },
  {
   "cell_type": "markdown",
   "metadata": {},
   "source": [
    "We can look at a slice of the list like so:"
   ]
  },
  {
   "cell_type": "code",
   "execution_count": 11,
   "metadata": {},
   "outputs": [
    {
     "data": {
      "text/plain": [
       "[['In article <1993Apr14.125813.21737@ncsu.edu> hernlem@chess.ncsu.edu (Brad Hernlem) writes:\\n\\n   Lebanese resistance forces detonated a bomb under an Israeli occupation\\n   patrol in Lebanese territory two days ago. Three soldiers were killed and\\n   two wounded. In \"retaliation\", Israeli and Israeli-backed forces wounded\\n   8 civilians by bombarding several Lebanese villages. Ironically, the Israeli\\n   government justifies its occupation in Lebanon by claiming that it is \\n   necessary to prevent such bombardments of Israeli villages!!\\n\\n   Congratulations to the brave men of the Lebanese resistance! With every\\n   Israeli son that you place in the grave you are underlining the moral\\n   bankruptcy of Israel\\'s occupation and drawing attention to the Israeli\\n   government\\'s policy of reckless disregard for civilian life.\\n\\n   Brad Hernlem (hernlem@chess.ncsu.EDU)\\n\\nVery nice. Three people are murdered, and Bradly is overjoyed. When I\\nhear about deaths in the middle east, be it Jewish or Arab deaths, I\\nfeel sadness, and only hope that soon this all stops. Apparently, my\\nview point is not acceptable to people like you Bradly.\\n\\nHernlem, you disgust me.\\n\\nHarry.\\n',\n",
       "  'Heil Hernlem ',\n",
       "  'talk.politics.mideast'],\n",
       " ['ab4z@Virginia.EDU (\"Andi Beyer\") writes:\\n\\n> First of all I never said the Holocaust. I said before the\\n> Holocaust. I\\'m not ignorant of the Holocaust and know more\\n> about Nazi Germany than most people (maybe including you). \\n\\nUh Oh!  The first sign of an argument without merit--the stating of one\\'s \\n\"qualifications\" in an area.  If you know something about Nazi Germany, \\nshow it.  If you don\\'t, shut up.  Simple as that.\\n\\n> \\tI don\\'t think the suffering of some Jews during WWII\\n> justifies the crimes commited by the Israeli government. Any\\n> attempt to call Civil liberterians like myself anti-semetic is\\n> not appreciated.\\n\\nALL Jews suffered during WWII, not just our beloved who perished or were \\ntortured.  We ALL suffered.  Second, the name-calling was directed against\\nYOU, not civil-libertarians in general.  Your name-dropping of a fancy\\nsounding political term is yet another attempt to \"cite qualifications\" \\nin order to obfuscate your glaring unpreparedness for this argument.  Go \\nback to the minors, junior.\\n',\n",
       "  \"Re: Israel's Expansion II\",\n",
       "  'talk.politics.mideast'],\n",
       " [\"\\n Andrew Varvel writes:\\n>\\n>\\n> Serdar Argic \\n>(a.k.a. Serdar Argic, The Merciful and Compassionate) writes:\\n>\\n>[Serdar Argic's bountiful, divine, all-knowing, and footnoted \\n>wisdom is regrettably omitted for this solemn tribute.]\\n>\\n>\\n>WHERE CAN I JOIN THE SERDAR ARGIC FAN CLUB?  DO I GET A T-SHIRT?\\n>\\n>--The Friendly Neighborhood Alien--\\n>\\n>Life just hasn't been the same since David Koresh died...\\n\\n     ah c'mon, give the guy three days and see what comes up.\\n\\n     LEO\\n\\n*--*--*--*--*--*--*--*--*--*--*--*--*--*\\n|  DISCLAIMER: it wasn't me, honest,   | email:\\n|     it was him, he made me do it!!   | C.L.Gannon@newcastle.ac.uk\\n*--*--*--*--*--*--*--*--*--*--*--*--*--*\\n\",\n",
       "  'Re: To be exact, 2.5 million readers enlightened by Serdar Argic',\n",
       "  'talk.politics.mideast'],\n",
       " [\"In article <1993Apr15.204930.9517@thunder.mcrcim.mcgill.edu>, hasan@McRCIM.McGill.EDU  writes:\\n|> \\n|> In article <1993Apr15.055341.6075@nysernet.org>, astein@nysernet.org (Alan Stein) writes:\\n|> |> I guess Hasan finally revealed the source of his claim that Israel\\n|> |> diverted water from Lebanon--his imagination.\\n|> |> -- \\n|> |> Alan H. Stein                     astein@israel.nysernet.org\\n|> Mr. water-head,\\n|> i never said that israel diverted lebanese rivers, in fact i said that\\n|> israel went into southern lebanon to  make sure that no \\n|> water is being used on the lebanese\\n|> side, so that all water would run into Jordan river where there\\n|> israel will use it  !#$%^%&&*-head.\\n\\nOf course posting some hard evidence or facts is much more\\ndifficult.  You have not bothered to substantiate this in\\nany way.  Basil, do you know of any evidence that would support\\nthis?\\n\\nI can just imagine a news report from ancient times, if Hasan\\nhad been writing it.\\n\\nNewsflash:\\nCairo AP (Ancient Press).  Israel today denied Egypt acces to the Red\\nSea.  In a typical display of Israelite agressiveness, the leader of\\nthe Israelite slave revolt, former prince Moses, parted the Red Sea.\\nThe action is estimated to have caused irreparable damage to the environment.\\nEgyptian authorities have said that thousands of fisherman have been\\ndenied their livelihood by the parted waters.  Pharaoh's brave charioteers\\nwere successful in their glorious attempt to cause the waters of the\\nRed Sea to return to their normal state.  Unfortunately they suffered\\nheavy casualties while doing so.\\n\\n|> Hasan \\n\\n-- \\nShai Guday              | Stealth bombers,\\nOS Software Engineer    |\\nThinking Machines Corp. |\\tthe winged ninjas of the skies.\\nCambridge, MA           |\\n\",\n",
       "  'Basil, opinions? (Re: Water on the brain)',\n",
       "  'talk.politics.mideast'],\n",
       " [\"Srinivas Suder writes:\\n\\n>If the Haitian people's will is that their current Govt. get thrown out, \\n>they'll find a way to do it. Getting the US/UN to short-cut the process will \\n>only hasten it, but sets a bad precedent - can the US interfere EVERYWHERE? \\n>Why not right at our doorstep - Cuba?\\n\\nPrecisely, why not Cuba??  Why not???  The Hatians are being ruled by thugs \\nand their elected leader has asked support to reestablish the peoples will.  If \\nthe U.S. or any other democracy wishes to, they are in the perfect right to \\nhelp them without any whining from thir parties.  After all if it turns out to \\nbe colonialism and the poeple don't like it, they' find a way to throw them out.\\n\\n>There is an implicit assumption here that we as outsiders have a right to sit\\n>in judgement of another people, and to then act on it. To me, it is in there\\n>that the roots of old colonial attitudes lie. Today, the motives are noble.\\n>Tomorrow, they may not be.\\n\\nWho ever said people who commit genocide have the right to commit genocide??  \\nI want a world where criminals agains humanity have no place to hide, while you \\nwant special sovereignties designed to protect them.  Nobody has the right to \\ncommit crimes against humanity, and if they do they loose all right to self \\ndetermination.  If this is classical colonialism, then so be it.\\n\\nEdelmiro Salas\\n\\n\",\n",
       "  'Re: The Stage is Being Set',\n",
       "  'talk.politics.mideast'],\n",
       " ['Center for Policy Research <cpr@igc.apc.org> writes:\\n\\n   From: Center for Policy Research <cpr>\\n   Subject: Zionism - racism\\n\\n\\n   Diaspora \\'a cancer\\'\\n   ------------------- by Julian Kossoff and Lindsay Schusman in:\\n   Jewish Chronicle, London, 22. Dec. 1989\\n\\n   Leading Israeli author and cultural commentator, A.B. Yehoshua,\\n   launched a ferocious attack on diaspora Jewry at a Zionist Youth\\n   Council meeting in North London, last week.\\n\\n   The diaspora, he claimed, \"was the cancer connected to the main\\n   tissue of the Jewish people\". He was scathing about its failure to\\n   act before the Holocaust.\\n\\n\\n   [ deleted for bravity ]\\n\\n\\n   Jewish values in Israel embraced every aspect of daily life,\\n   unlike in the diaspora, where Jews had no responsibility for the\\n   country they lived in, he said.\\n\\n   He warned that modern Hebrew, a unifying force for the Jewish\\n   people, would have to struggle for its future, especially in\\n   literary circles. It faced fierce competition from the English\\n   language.\\n\\n   -------------------------------------------------------------------------\\n\\nSo?\\n\\n--Amos\\n--\\n--Amos Shapira (Jumper Extraordinaire) |  \"It is true that power corrupts,\\nC.S. System Group, Hebrew University,  |   but absolute power is better!\"\\nJerusalem 91904, ISRAEL                |\\namoss@cs.huji.ac.il                    |          -- the Demon to his son\\n',\n",
       "  'Re: Zionism - racism',\n",
       "  'talk.politics.mideast'],\n",
       " ['> Problem 1\\n> \\n> My father told me the following story. During the famous wars between the \\n> Armenians and the Persians, prince Zaurak Kamsarakan performed extraordinary \\n> heroic deeds. Three times in a single month he attacked the Persian troops. \\n> The first time, he struck down half of the Persian army. The second time, \\n> pursuing the Persians, he slaughtered one fourth of the soldiers. The third \\n> time, he destroyed one eleventh of the Persian army. The Persians who were \\n> still alive, numbering two hundred eighty, fled to Nakhichevan. And so, from \\n> this remainder, find how many Persian soldiers there were before the  \\nmassacre.\\n> \\n\\nAnswer: a(1-1/2-1/4-1/11)=280 -> a = 1760\\n\\nCorollary: Armenians strike, slaughter, destroy, and massacre. After all,\\n           they are not as innocent as the asala network claims.\\n\\n\\n\\n\\n\\n\\n\\n\\n\\n\\n\\n\\n\\n\\n\\n',\n",
       "  'Re: Seventh Century A.D. Armenian Math Problems',\n",
       "  'talk.politics.mideast'],\n",
       " ['In article <C7185t.9xJ@unix.amherst.edu> eerginel@unix.amherst.edu (ERDEM ERGINEL) writes:\\n\\n>My question is, given so many separations in the Armenian community, what\\n>was the common denominator of the Armenian people that allowed Armenian\\n>nationalism to emerge in the nineteenth century? As I stated, religion\\n\\nThere are various contradictory views on the origin of the Armenians.\\nThe name is to be found in the Darian inscriptions in the form \\'Armina\\'\\nor \\'Aramaniya\\' is to be found in the inscription on the Bistun monument.\\nThe following references to the Armenians are to be found in the Bistun\\ncuneiform inscription of Dara Vishdasb (510 B.C.).\\n\\n 1. The monarch Dara said: I sent my servant to Arminam \\'Armeniya\\'.\\n\\n 6. On reaching Arminam \\'Armeniya\\'.\\n\\n 7. To the country town of Zozo, to Armaniya \\'Armeniya\\'.\\n\\nAccording to Karakashian:\\n\\nAs for \\'Armenia\\', the equivalent of the \\'Armin\\' or \\'Arminik\\' of the Persians,\\nthis is more recent than the word \\'Ararat\\', and is to be found used in\\nthe Dara inscriptions for \\'Haiastan\\'.  \\n\\nSaint Martin:\\n\\nThe name \\'Armenie\\' has been given since very early times by almost all\\nthe various eastern peoples to the territory referred to by the Armenians\\nas \\'Haiastan\\'. It was known to the Syrians as Armenia and to the Arabs\\nas Ermeniyye.\\n \\nOthers believe that Urartu was known in the time of the Medes as \\'Harminap\\'\\nwhich was later modified by the Persians to \\'Arminia\\'. \\'Ar\\' refers to a\\nplace, as in Ararat, Archish, Aruyr, Archar, Arshav, Arazen and Aror, \\nwhile \\'men\\' is used to refer to spirit, thought or human being, and \\ntherefore \\'Armen\\' would appear to signify \\'the people of that place\\'.\\n\\nG. Alishan believes that \\'according to our national vocabulary \"Haik\"\\nis the diminutive form of \"Hai\", and that \"Hai\" is the name of our\\nnation. Our nation is in no way connected with the word \"Armen\" that\\nforeigners apply to our people.\\'\\n\\nIt would thus appear that \\'Armenia\\' is a place-name, that \\'Armen\\' is \\nthe name of the people who lived there, and that these are in no way\\nconnected with the word \\'Hai\\'.\\n\\nHaik and Haiastan:\\n\\nArmenian historians believe Haik to have been a great hero from whom\\nthe Armenian people took the name \\'Hai\\'. But the mere resemblance\\nbetween the words \\'Haik\\' and \\'Hai\\' constitutes no real proof, and,\\nin any case, no such theory appears before the time of Moses of\\nKhoren.\\n\\nHaiasa:\\n\\nThe following studies show quite clearly that \\'Hai\\' and \\'Haiasa\\' were\\nno more than general names used by the Hittites to refer to the \\nregion known as Armenia.\\n\\nProfessor Hachadurian: \\'Haiasa was the general name used in Hittite\\ninscriptions for Upper Armenia.\\'\\n\\nYensen, in his \\'Hittites and Armenians\\' tries to prove that \\'Hai\\' is\\nidentical with the Hittite \\'Hatio\\', in other words that \\'Hai\\' is a\\nHittite word. Research, however, has proved this erroneous, and shown\\nthat \\'Hai\\' was derived from \\'Hatio\\'.\\n\\nMortman\\'s attempt to read the Urartu inscriptions as Armenian met with \\nno success. As for Greek, there is no point in even mentioning it.\\n\\nThe resemblance between the words \\'Haiasa\\' and \\'Haiastan\\' is so obvious\\nthat we may well accept \\'Haiasa\\' as the oldest form of \\'Haiastan\\'.\\n\\nLet us now cast a brief glance on how the words \\'Hai\\', \\'Haikazan\\' and\\n\\'Haiastan\\' entered our older works.\\n\\nAccording to Karakashian: \\n\\n\\'The word \"Haik\" is never to be found employed with reference to a\\nleader of the Armenian people prior to Moses of Khoren, nor is it\\never found employed in the forms \"Haika\" or \"Haykazn\".\\n\\nAgahangelos and Puzant use the word as a title or a place-name (he\\nimproved and developed Haiastan, etc.). If the word had referred\\nto a nation and had been derived from \"Hai\" or \"Haik\" they could \\nalso have used the words \"Haikak\" and \"Haykazn\" in a number of\\nplaces.\\'\\n\\nAccording to Professor Sayce, who deciphered a number of Hittite \\ninscriptions:\\n\\n\\'In the Hittite language the suffix -ha is used to specify quality\\nor species. The words \"Haddanas\", \"Haddina\" were used by the \\nAssyrians to refer to the Hittites. With the transformation of the\\n\"d\" between the two \"a\" letters to \"y\" \"Hadinasdani\" was in this\\nway transformed to \"Haiastan\"\\'.\\n\\nProfessor Grechmer fully agrees with this point of view, but regards\\nthe significance and explanation so far accorded to the terms \\'Hai\\'\\nand \\'Haistan\\' as quite unsatisfactory. He finds, however, that a \\nsolution to this problem is brought nearer by the name \\'Haiasa\\' \\nwhich is so frequently found in Bogazkoy from 1400 B.C. onwards.\\nForrer takes \\'Haiasa\\' as referring to Upper Armenia. In that case\\nit seems likely that \\'Haiasa\\' was actually a part of Armenia. The\\nsuffix -dan is of Anatolian origin. The real root is \\'Hayasa\\', which\\nrefers to the country of the \\'Hayasas\\'.\\n\\nE. Chantre writes as follows on the subject of the ethnological \\nand Anthropological characteristics of the Armenian people.\\n\\nThe Armenians in Russia may be characterized as follows: Almost\\nall of them are brachycephalic or leptocephalic, very dark,\\nabove average height, an Aissores Asian group with close ties\\nwith certain Kurdish tribes and Azerbaijan peoples.\\n\\nAccording to J. Deniker:\\n\\nFrom the philological point of view, the Armenian and Kurds may be\\nregarded as belonging to the Iranian group...The Armenians are \\ndescended from various elements and from a very mixed race. Their\\naverage height varies between 1.63 and 1.69 according to the region.\\nThey are almost always short-headed, with skull measurements of \\n85-87. As a race they belong to the Indo-Afghan-Assyrian-Turkic\\nfamily.\\n\\nProfessor Rene Vernont writes as follows:\\n\\nThe Armenians are a mixture of Semites, Turk, Kurds and Mongols,\\nbut some of them display Armenian features, e.g., height a little\\nabove average, fair complexion, dark hair, dark eyes, very often\\na hooked nose and a rather wide mouth. \\n\\nInvestigations carried out by N. Kossovitch on the links between\\nArmenian blood groups and their anthropological characteristics\\nled him to the conclusion that the Armenians did not form a \\ndistinct race.\\n\\nSerdar Argic\\n\\n                           \\'We closed the roads and mountain passes that \\n                            might serve as ways of escape for the Turks \\n                            and then proceeded in the work of extermination.\\'\\n                                                  (Ohanus Appressian - 1919)\\n                           \\'In Soviet Armenia today there no longer exists \\n                            a single Turkish soul.\\' (Sahak Melkonian - 1920)\\n\\n',\n",
       "  'The Armenians did not form a distinct race.',\n",
       "  'talk.politics.mideast'],\n",
       " ['In article <1993Apr5.221759.28472@thunder.mcrcim.mcgill.edu> hasan@McRCIM.McGill.EDU  writes:\\n\\n[ stuff deleted ]\\n   |> I wrote:\\n   |> Are you calling names, or giving me a title? If the first, read your \\n   |> paragraph above, if not I accept the title, in order to let you get into the\\n   |> um, well, debate again.\\n\\n   Hasan replies:\\n   I didnot know that \"Master of wisdom\" can be \"name clling\" too,\\n   unless you consider yourself deserve-less !\\n\\nUnless you are referring to someone else, you have in fact given me a name \\nI did not ask for, hence the term \\'name calling\\'.\\n\\n   Hasan writes:\\n   |>    So what do you expect me to tell you to tell you, Master of Wsidom, \\n   |> \\t\\t\\t\\t\\t\\t\\t       ^^^\\n   |> ------------------------------------------------------------------\\n   I replied:\\n   |> If you insist on giving me names/titles I did not ask for you could at\\n   |> least spell them correctly. /sigh.\\n\\n   Hasan gloats:\\n   That was only to confuse you! (ha ha ha hey )\\n\\nHell-bent on retarding into childhood, no? \\n\\n   |>when you are intentionally neglecting the MOST important fact that \\n   |>the whole israeli presence in the occupied territories is ILLEGITIMATE, \\n   |>and hence ALL their actions, their courts, their laws are illegitimate on \\n   |>the ground of occupied territories.\\n   |> \\n   >No, I am _not_ neglecting that, I\\'m merely asking you whether the existance\\n   >of Israeli citicens in the WB or in Gaza invalidates those individuals \\n   >right\\n               ^^^^^^^ are you trying to retaliate and confuse me here.\\n\\nNo, I really do try to spell correctly, and I apologize if I did confuse you.\\nI will try not to repeat that.\\n\\n   |> to live, a (as you so eloquently put it) human right. We can get back to the \\n   |> question of which law should be used in the territories later. Also, you have \\n   |> not adressed my question if the israelis also have human rights.\\n\\n\\n   First, my above statement doesnot say that \"the existence of israeli citizens\\n   in the WB revoke their right of life\" but it says \"the israeli occupation\\n   of the WB revoke the right of life for some/most its citizens - basically\\n   revokes the right of for its military men\". Clearly, occupation is an\\n   undeclared war; during war, attacks against military targets are fully legitimate. \\n\\nOk, let me re-phrase the question. I have repeatedly asked you if the \\nIsraelis have less human rights than the palestinians, and if so, why.\\nFrom your posting (where you did not directly adress my question) I inferred\\nthat you thought so. Together with the above statement I then assumed that the\\nreason was the actions of the state of Israel. Re: your statement of \\noccupation: I\\'d like you to define the term, so I don\\'t have to repeat this\\n\\'drag the answer out of hasan\\' procedure more than neccesary.\\n\\n   Secondly, surely israeli have human rights, but they ask their goverment to\\n   protect it by withdrawing from the occupied terretories, not by further oppressing\\n   Palestinean human rights.\\n\\nI\\'m sorry, but the above sentence does not make sense. Please rephrase it.\\n\\n\\n   |> If a state can deprive all it\\'s citizens of human rights by its actions, then \\n   |> tell me why _any_ human living today should have any rights at all?\\n\\n\\n   Because not all states are like Israel, as oppressive, as ignorant, or as tyrant.\\n\\nOh, ok. So how about the human rights of the Syrians, Iraqis and others?\\nDoes the name of Hama sound familiar? Or how about the kurds in Iraq and\\nTurkey? \\nHow about the Same in Sweden (Ok, maybe a bit farfetched..) the Russians in\\nthe Baltic states or the Moslem in the old USSR and Yugoslavia?\\nDo the serbs have any human rights remainaing, according to you?\\n\\n\\n   |>    |> And which system do you propose we use to solve the ME problem?\\n   |> \\n   |>    The question is NOT which system would solve the ME problem. Why ? because\\n   |>    any system can solve it. \\n   |>    The laws of minister Sharon says kick Palestineans out of here (all palestine). \\n   |> \\n   |> I asked for which system should be used, that will preserve human rights for \\n      ^^^^^^^^^^^^^^^^^^^^^^^^^^^^^^^^^^^^^^^^^^^^^^^^^^^^^^^^^^^^^^^^^^^^^^^^^^^\\n   |> all people involved. I assumed that was obvious, but I won\\'t repeat that \\n   |> mistake. Now that I have straightened that out, I\\'m eagerly awaiting your \\n   |> reply.\\n\\n   So you agree that that an israeli solution wouldnot preserve human rights.\\n   (i am understanding this from your first statement in this paragraph).\\n\\nNo, I\\'m agreeing that to just kick all the Palestinians out of Israel proper \\nwould probably lead to disaster for both parties. If that\\'s what you refer \\nto as the \\'Israeli solution\\' then so be it.\\n\\n   |>    Joseph Weitz (administrator responsible for Jewish colonization) \\n   |>    said it best when writing in his diary in 1940:\\n   |> \\t   \"Between ourselves it must be clear that there is no room for both\\n   |> \\t   peoples together in this country.... We shall not achieve our goal\\n   |> \\t\\t\\t\\t\\t\\t^^^                  ^^^\\n   |> \\t   of being an independent people with the Arabs in this small country.\\n   |> \\t   The only solution is a Palestine, at least Western Palestine (west of\\n   |> \\t   the Jordan river) without Arabs.... And there is no other way than\\n   |> \\t   to transfer the Arabs from here to the neighbouring countries, to\\n   |> \\t   transfer all of them; not one village, not one tribe, should be \\n   |> \\t   left.... Only after this transfer will the country be able to\\n   |> \\t   absorb the millions of our own brethren. There is no other way out.\"\\n   |> \\t\\t\\t\\t   DAVAR, 29 September, 1967\\n   |> \\t\\t\\t\\t   (\"Courtesy\" of Marc Afifi)\\n   |> \\n|> Just a question: If we are to disregard the rather obvious references to \\n|> getting Israel out of ME one way or the other in both PLO covenant and HAMAS\\n|> charter (that\\'s the english translations, if you have other information I\\'d\\n|> be interested to have you translate it) why should we give any credence to \\n|> a _private_ paper even older? I\\'m not going to get into the question if he\\n|> wrote the above, but it\\'s fairly obvious all parties in the conflict have\\n|> their share of fanatics. Guess what..? Those are not the people that will\\n|> make any lasting peace in the region. [more deleted stuff]\\n\\n>Exactly, you are right. I guess that the problem is that the israeli goverment>is full with  men like Joseph Weitz. \\n\\nOh? Have you met with them personally, to read their diaries? Fascinating.\\nWhat do you _do_ for a living?\\n\\n|>    \"We\" and \"our\" either refers to Zionists or Jews (i donot know which). \\n|> \\n|>    Well, i can give you an answer, you Master of Wisdom, I will NOT suggest the \\n|>    imperialist israeli system for solving the ME problem !\\n|> \\n|>    I think that is fair enough .\\n|> \\n|> No, that is _not_ an answer, since I asked for a system that could solve \\n|> the problem. You said any could be used, then you provided a contradiction.\\n\\n   Above you wrote that you understood what i meant (underlined by ^ ): \\n   any system can be used to solve the conflict , but not any system would \\n   resolve it JUSTLY.\\n\\nAn unjust solution would be a non-solution, per definition, no?\\nYou said the following:\\n\\nFor all A it holds that A have property B.\\nThere exists an A such that property B does not hold.\\n\\nThus, either or both statements must be false.\\n\\n   |> Guess where that takes your logic? To never-never land. \\n\\n>You are proving yourself as a \" \". First you understood what i meant, but then\\n>you claim you didnot so to claim a contradiction in my logic. \\n>Too bad for you, the Master of Wisdom.\\n\\nI was merely pointing out a not so small flaw in your reasoning.\\nSince you claim to be logical I felt it best to point this out\\nbefore you started using your statements to prove a point or so.\\nAm I then to assume you are  not logical?\\n\\n|>    \"The greatest problem of Zionism is Arab children\".\\n|> \\t\\t\\t   -Rabbi Shoham.\\n|> \\n|> Oh, and by the way, let me add that these cute quotes you put at the end are\\n|> a real bummer, when I try giving your posts any credit.\\n\\n>Why do you feel ashamed by things and facts that you believe in , \\n>if you were a Zionists. If you believe in Zionist codes and acts, \\n>well i feel sorry for you, because the same Rabbi Shoham had said \\n>\"Yes, Zionism is racism\".\\n>If you feel ashamed and bothered by the Zionist codes, then drop Zionism.\\n>If you are not Zionist, why are you bothered then. You should join me in\\n>condemning these racist Zionist codes and acts.\\n\\nAny quote can be misused, especially when used to stereotype all \\nindividuals by a statement of an individual. If you use the same\\nmethods that you credit \\'Zionists\\' with, then where does that place you?\\n\\nOh, by the way, I\\'d advice you not to assume anything about my \\'loyalties\\'.\\nI will and am condemning acts I find vile and inhuman, but I\\'ll try as \\nlong as I can not to assume those acts are by a whole people.\\nBy zionist above do you mean the state of Israel, the government of Israel, \\nthe leaders of Israel (political and/or religious) or the jews in\\ngeneral? If you feel the need to condemn, condemn those responsible\\ninstead. How would you feel if we started condemning you personally\\nbased on the bombings in Egypt? \\n\\n--\\n\\n--------------------------------------------------------\\nJonas Flygare, \\t\\t+ Wherever you go, there you are\\nV{ktargatan 32 F:621\\t+\\n754 22 Uppsala, Sweden\\t+\\n',\n",
       "  'Re: 18 Israelis murdered in March',\n",
       "  'talk.politics.mideast'],\n",
       " ['In article <30937@galaxy.ucr.edu> raffi@watnxt08.ucr.edu (Raffi R Kojian) writes:\\n\\n>> Come again? The image-conscious Armenians sorely feel a missing \\n>> glory in their background. Armenians have never achieved statehood \\n>> and independence, they have always been subservient, and engaged \\n>> in undermining schemes against their rulers. They committed \\n>> genocide against the Muslim populations of Eastern Anatolia \\n>> and x-Soviet Armenia before and during World War I and fully \\n>> participated in the extermination of the European Jewry \\n>> during World War II. Belligerence, genocide, back-stabbing, \\n>> rebelliousness and disloyalty have been the hallmarks of the \\n>> Armenian history. To obliterate these episodes the Armenians \\n>> engaged in tailoring history to suit their whims. In this zeal \\n>> they tried to cover up the cold-blooded genocide of 2.5 million \\n>> Turks and Kurds before and during World War I.\\n>> Source: Documents: Volume I (1919).\\n>>         \"Document No: 50,\" Archive No: 4/3621, Cabin No: 162, Drawer \\n>>         No: 5, File No: 2905, Section No: 433, Contents No: 6, 6-1, 6-2.\\n>>         (To 36th Division Command - Militia Commander Ismail Hakki)\\n\\n>Your note was not on target at all.  Armenians have had MANY independent \\n>times in their long and beautiful history. Including an independent \\n\\nYour ignorance is hardly characteristic of most \\'*ians\\'. Sarkis Atamian \\nexplains in his book called \\'The Armenian Community, New York 1955, \\nPhilosophical Library\\' that, according to historians, original fatherland \\nof the Armenians was in Thessaly, Greece. Armenian invaders burned and \\nsacked the fatherland of Urartus, massacred and exterminated its population \\nand presented to the world all those left from the Urartus, as the Armenian \\ncivilization. All reliable western historians describe how Armenians \\nruthlessly exterminated 2.5 million Muslim women, children and elderly \\npeople of Eastern Anatolia and how they collaborated with the enemies of \\nthe Muslim people between 1914-1920. It is unfortunately a truth that \\nArmenians are known as collaborators of the Nazis during World War II \\nand that, even today, criminal members of the ASALA/SDPA/ARF Terrorism \\nTriangle preach and instigate racism, hatred, violence and terrorism \\namong peoples. \\n\\n>Please tell me how on earth Armenians fully participated in the genocide \\n>of Jews during WWII, are you on some heavy drugs?  \\n\\nWho says \\'Arromdians\\' are no damn good? During World War II Armenians \\nwere carried away with the German might and cringing and fawning over \\nthe Nazis. In that zeal, the Armenian publication in Germany, Hairenik, \\ncarried statements as follows:[1]\\n\\n\"Sometimes it is difficult to eradicate these poisonous elements (the Jews)\\n when they have struck deep root like a chronic disease, and when it \\n becomes necessary for a people (the Nazis) to eradicate them in an uncommon\\n method, these attempts are regarded as revolutionary. During the surgical\\n operation, the flow of blood is a natural thing.\" \\n\\nNow for a brief view of the Armenian genocide of the Muslims and Jews -\\nextracts from a letter dated December 11, 1983, published in the San\\nFrancisco Chronicle, as an answer to a letter that had been published\\nin the same journal under the signature of one B. Amarian.\\n\\n \"We have first hand information and evidence of Armenian atrocities\\n  against our people (Jews). Members of our family witnessed the \\n  murder of 148 members of our family near Erzurum, Turkey, by Armenian \\n  neighbors, bent on destroying anything and anybody remotely Jewish \\n  and/or Muslim. Armenians should look to their own history and see \\n  the havoc they and their ancestors perpetrated upon their neighbors.\\n  Armenians were in league with Hitler in the last war, on his premise \\n  to grant themselves government if, in return, the Armenians would \\n  help exterminate Jews. Armenians were also hearty proponents of\\n  the anti-Semitic acts in league with the Russian Communists.\"\\n\\n  Signed Elihu Ben Levi, Vacaville, California.\\n\\n[1] James G. Mandalian, \\'Dro, Drastamat Kanayan,\\' in the \\'Armenian\\n    Review,\\' a Quarterly by the Hairenik Association, Inc., Summer:\\n    June 1957, Vol. X, No. 2-38.\\n\\nAnd stick around...\\n\\nSerdar Argic\\n\\n                           \\'We closed the roads and mountain passes that \\n                            might serve as ways of escape for the Turks \\n                            and then proceeded in the work of extermination.\\'\\n                                                  (Ohanus Appressian - 1919)\\n                           \\'In Soviet Armenia today there no longer exists \\n                            a single Turkish soul.\\' (Sahak Melkonian - 1920)\\n\\n',\n",
       "  'Re: As Muslim women and children were being massacred by Armenians...',\n",
       "  'talk.politics.mideast']]"
      ]
     },
     "execution_count": 11,
     "metadata": {},
     "output_type": "execute_result"
    }
   ],
   "source": [
    "data[0:10]"
   ]
  },
  {
   "cell_type": "markdown",
   "metadata": {},
   "source": [
    "### Making a DataFrame"
   ]
  },
  {
   "cell_type": "markdown",
   "metadata": {},
   "source": [
    "We transform the lit into a [Pandas](https://pandas.pydata.org) DataFrame as many machine learning models from python packages accept Pandas DataFrames as input. "
   ]
  },
  {
   "cell_type": "code",
   "execution_count": 12,
   "metadata": {},
   "outputs": [],
   "source": [
    "import pandas as pd"
   ]
  },
  {
   "cell_type": "code",
   "execution_count": 13,
   "metadata": {},
   "outputs": [],
   "source": [
    "df = pd.DataFrame(data, columns = ['Message', 'Subject', 'Category'])"
   ]
  },
  {
   "cell_type": "code",
   "execution_count": 14,
   "metadata": {},
   "outputs": [
    {
     "data": {
      "text/html": [
       "<div>\n",
       "<style scoped>\n",
       "    .dataframe tbody tr th:only-of-type {\n",
       "        vertical-align: middle;\n",
       "    }\n",
       "\n",
       "    .dataframe tbody tr th {\n",
       "        vertical-align: top;\n",
       "    }\n",
       "\n",
       "    .dataframe thead th {\n",
       "        text-align: right;\n",
       "    }\n",
       "</style>\n",
       "<table border=\"1\" class=\"dataframe\">\n",
       "  <thead>\n",
       "    <tr style=\"text-align: right;\">\n",
       "      <th></th>\n",
       "      <th>Message</th>\n",
       "      <th>Subject</th>\n",
       "      <th>Category</th>\n",
       "    </tr>\n",
       "  </thead>\n",
       "  <tbody>\n",
       "    <tr>\n",
       "      <th>19104</th>\n",
       "      <td>\\nIn article &lt;sandvik-200493000159@sandvik-ken...</td>\n",
       "      <td>Re: Davidians and compassion</td>\n",
       "      <td>talk.religion.misc</td>\n",
       "    </tr>\n",
       "    <tr>\n",
       "      <th>2123</th>\n",
       "      <td>\\tI am in need of the Driver for the Bernoulli...</td>\n",
       "      <td>Driver for DataFrame XP60+B</td>\n",
       "      <td>comp.sys.mac.hardware</td>\n",
       "    </tr>\n",
       "    <tr>\n",
       "      <th>5435</th>\n",
       "      <td>In article &lt;1rgtba$gtn@access.digex.net&gt; farle...</td>\n",
       "      <td>Re: Help with changing Startup logo</td>\n",
       "      <td>comp.os.ms-windows.misc</td>\n",
       "    </tr>\n",
       "    <tr>\n",
       "      <th>5193</th>\n",
       "      <td>slc@a2.cim.cdc.com (Steve Chesney x4662) write...</td>\n",
       "      <td>Re: Diamond Speedstar 24X Driver Bug?</td>\n",
       "      <td>comp.os.ms-windows.misc</td>\n",
       "    </tr>\n",
       "    <tr>\n",
       "      <th>19658</th>\n",
       "      <td>Jim Kasprzak (kasprj@isaac.its.rpi.edu) wrote:...</td>\n",
       "      <td>Re: New Religion Forming -- Sign Up</td>\n",
       "      <td>talk.religion.misc</td>\n",
       "    </tr>\n",
       "    <tr>\n",
       "      <th>9541</th>\n",
       "      <td>In article &lt;1993Apr15.170731.8797@isc-br.isc-b...</td>\n",
       "      <td>Re: Limiting Govt (was Re: Employment (was Re:...</td>\n",
       "      <td>talk.politics.misc</td>\n",
       "    </tr>\n",
       "    <tr>\n",
       "      <th>9407</th>\n",
       "      <td>In article &lt;C5Jnwp.HJz@bony1.bony.com&gt; jake@bo...</td>\n",
       "      <td>Re: Binyamin Netanyahu on CNN tonight.</td>\n",
       "      <td>talk.politics.misc</td>\n",
       "    </tr>\n",
       "    <tr>\n",
       "      <th>7702</th>\n",
       "      <td>In article &lt;C5y746.73K@vcd.hp.com&gt; johne@vcd.h...</td>\n",
       "      <td>Re: Suggestions for escrow agencies (was: Re: ...</td>\n",
       "      <td>sci.crypt</td>\n",
       "    </tr>\n",
       "    <tr>\n",
       "      <th>18100</th>\n",
       "      <td>For Sale I have 4 (Four) 1 Meg SIMMS (100ns) f...</td>\n",
       "      <td>For Sale: 4 x 1MEG SIMMS (100ns) for the Macin...</td>\n",
       "      <td>misc.forsale</td>\n",
       "    </tr>\n",
       "    <tr>\n",
       "      <th>17371</th>\n",
       "      <td>whitsebd@nextwork.rose-hulman.edu (Bryan Whits...</td>\n",
       "      <td>Re: homosexual issues in Christianity</td>\n",
       "      <td>soc.religion.christian</td>\n",
       "    </tr>\n",
       "  </tbody>\n",
       "</table>\n",
       "</div>"
      ],
      "text/plain": [
       "                                                 Message  \\\n",
       "19104  \\nIn article <sandvik-200493000159@sandvik-ken...   \n",
       "2123   \\tI am in need of the Driver for the Bernoulli...   \n",
       "5435   In article <1rgtba$gtn@access.digex.net> farle...   \n",
       "5193   slc@a2.cim.cdc.com (Steve Chesney x4662) write...   \n",
       "19658  Jim Kasprzak (kasprj@isaac.its.rpi.edu) wrote:...   \n",
       "9541   In article <1993Apr15.170731.8797@isc-br.isc-b...   \n",
       "9407   In article <C5Jnwp.HJz@bony1.bony.com> jake@bo...   \n",
       "7702   In article <C5y746.73K@vcd.hp.com> johne@vcd.h...   \n",
       "18100  For Sale I have 4 (Four) 1 Meg SIMMS (100ns) f...   \n",
       "17371  whitsebd@nextwork.rose-hulman.edu (Bryan Whits...   \n",
       "\n",
       "                                                 Subject  \\\n",
       "19104                       Re: Davidians and compassion   \n",
       "2123                         Driver for DataFrame XP60+B   \n",
       "5435                 Re: Help with changing Startup logo   \n",
       "5193               Re: Diamond Speedstar 24X Driver Bug?   \n",
       "19658                Re: New Religion Forming -- Sign Up   \n",
       "9541   Re: Limiting Govt (was Re: Employment (was Re:...   \n",
       "9407              Re: Binyamin Netanyahu on CNN tonight.   \n",
       "7702   Re: Suggestions for escrow agencies (was: Re: ...   \n",
       "18100  For Sale: 4 x 1MEG SIMMS (100ns) for the Macin...   \n",
       "17371              Re: homosexual issues in Christianity   \n",
       "\n",
       "                      Category  \n",
       "19104       talk.religion.misc  \n",
       "2123     comp.sys.mac.hardware  \n",
       "5435   comp.os.ms-windows.misc  \n",
       "5193   comp.os.ms-windows.misc  \n",
       "19658       talk.religion.misc  \n",
       "9541        talk.politics.misc  \n",
       "9407        talk.politics.misc  \n",
       "7702                 sci.crypt  \n",
       "18100             misc.forsale  \n",
       "17371   soc.religion.christian  "
      ]
     },
     "execution_count": 14,
     "metadata": {},
     "output_type": "execute_result"
    }
   ],
   "source": [
    "df.sample(10)"
   ]
  },
  {
   "cell_type": "markdown",
   "metadata": {},
   "source": [
    "For simplicity, in the subsequent notebooks we want to treat the `Message` and the `Subject` as being part of one long piece of text. As such, we save time and computation by combining those DataFrame columns now:"
   ]
  },
  {
   "cell_type": "code",
   "execution_count": 15,
   "metadata": {
    "scrolled": true
   },
   "outputs": [],
   "source": [
    "df[\"Text\"]=df[\"Message\"]+df[\"Subject\"]\n",
    "df = df.drop(columns = [\"Message\", \"Subject\"])"
   ]
  },
  {
   "cell_type": "code",
   "execution_count": 16,
   "metadata": {},
   "outputs": [
    {
     "data": {
      "text/html": [
       "<div>\n",
       "<style scoped>\n",
       "    .dataframe tbody tr th:only-of-type {\n",
       "        vertical-align: middle;\n",
       "    }\n",
       "\n",
       "    .dataframe tbody tr th {\n",
       "        vertical-align: top;\n",
       "    }\n",
       "\n",
       "    .dataframe thead th {\n",
       "        text-align: right;\n",
       "    }\n",
       "</style>\n",
       "<table border=\"1\" class=\"dataframe\">\n",
       "  <thead>\n",
       "    <tr style=\"text-align: right;\">\n",
       "      <th></th>\n",
       "      <th>Category</th>\n",
       "      <th>Text</th>\n",
       "    </tr>\n",
       "  </thead>\n",
       "  <tbody>\n",
       "    <tr>\n",
       "      <th>15035</th>\n",
       "      <td>talk.politics.guns</td>\n",
       "      <td>wrote:\\n: In article &lt;1r6p8oINN8hi@clem.handh...</td>\n",
       "    </tr>\n",
       "    <tr>\n",
       "      <th>5910</th>\n",
       "      <td>comp.os.ms-windows.misc</td>\n",
       "      <td>Perusing through my Windows 3.1 directory, I c...</td>\n",
       "    </tr>\n",
       "    <tr>\n",
       "      <th>17315</th>\n",
       "      <td>soc.religion.christian</td>\n",
       "      <td>In article &lt;May.11.02.37.42.1993.28189@athos.r...</td>\n",
       "    </tr>\n",
       "    <tr>\n",
       "      <th>11890</th>\n",
       "      <td>comp.windows.x</td>\n",
       "      <td>\\n&gt; I got several answers, the most complete w...</td>\n",
       "    </tr>\n",
       "    <tr>\n",
       "      <th>18081</th>\n",
       "      <td>misc.forsale</td>\n",
       "      <td>Miscellaneous comics for sale. I really would ...</td>\n",
       "    </tr>\n",
       "    <tr>\n",
       "      <th>18809</th>\n",
       "      <td>misc.forsale</td>\n",
       "      <td>I have the following item for sale:\\n\\nElectro...</td>\n",
       "    </tr>\n",
       "    <tr>\n",
       "      <th>1755</th>\n",
       "      <td>rec.autos</td>\n",
       "      <td>In article &lt;1993Apr13.111652@usho72.hou281.che...</td>\n",
       "    </tr>\n",
       "    <tr>\n",
       "      <th>10327</th>\n",
       "      <td>rec.motorcycles</td>\n",
       "      <td>In article &lt;1993Apr23.163805.9516@research.nj....</td>\n",
       "    </tr>\n",
       "    <tr>\n",
       "      <th>16099</th>\n",
       "      <td>sci.space</td>\n",
       "      <td>prb@access.digex.com (Pat) writes:\\n\\n&gt;In arti...</td>\n",
       "    </tr>\n",
       "    <tr>\n",
       "      <th>7567</th>\n",
       "      <td>sci.crypt</td>\n",
       "      <td>In article &lt;1667.Apr1821.58.3593@silverton.ber...</td>\n",
       "    </tr>\n",
       "  </tbody>\n",
       "</table>\n",
       "</div>"
      ],
      "text/plain": [
       "                      Category  \\\n",
       "15035       talk.politics.guns   \n",
       "5910   comp.os.ms-windows.misc   \n",
       "17315   soc.religion.christian   \n",
       "11890           comp.windows.x   \n",
       "18081             misc.forsale   \n",
       "18809             misc.forsale   \n",
       "1755                 rec.autos   \n",
       "10327          rec.motorcycles   \n",
       "16099                sci.space   \n",
       "7567                 sci.crypt   \n",
       "\n",
       "                                                    Text  \n",
       "15035   wrote:\\n: In article <1r6p8oINN8hi@clem.handh...  \n",
       "5910   Perusing through my Windows 3.1 directory, I c...  \n",
       "17315  In article <May.11.02.37.42.1993.28189@athos.r...  \n",
       "11890  \\n> I got several answers, the most complete w...  \n",
       "18081  Miscellaneous comics for sale. I really would ...  \n",
       "18809  I have the following item for sale:\\n\\nElectro...  \n",
       "1755   In article <1993Apr13.111652@usho72.hou281.che...  \n",
       "10327  In article <1993Apr23.163805.9516@research.nj....  \n",
       "16099  prb@access.digex.com (Pat) writes:\\n\\n>In arti...  \n",
       "7567   In article <1667.Apr1821.58.3593@silverton.ber...  "
      ]
     },
     "execution_count": 16,
     "metadata": {},
     "output_type": "execute_result"
    }
   ],
   "source": [
    "df.sample(10)"
   ]
  },
  {
   "cell_type": "markdown",
   "metadata": {},
   "source": [
    "### Splitting the data\n",
    "\n",
    "We split the data, using 70% as a training set, and the remaining 30% as a testing set. We save these DataFrames  as parquet files."
   ]
  },
  {
   "cell_type": "code",
   "execution_count": 17,
   "metadata": {},
   "outputs": [],
   "source": [
    "train = df.sample(frac=0.7, random_state=504)\n",
    "test = df.drop(train.index) #everything that isn't in the test set"
   ]
  },
  {
   "cell_type": "code",
   "execution_count": 18,
   "metadata": {},
   "outputs": [
    {
     "data": {
      "text/plain": [
       "(13947, 2)"
      ]
     },
     "execution_count": 18,
     "metadata": {},
     "output_type": "execute_result"
    }
   ],
   "source": [
    "train.shape"
   ]
  },
  {
   "cell_type": "code",
   "execution_count": 19,
   "metadata": {},
   "outputs": [
    {
     "data": {
      "text/plain": [
       "(5977, 2)"
      ]
     },
     "execution_count": 19,
     "metadata": {},
     "output_type": "execute_result"
    }
   ],
   "source": [
    "test.shape"
   ]
  },
  {
   "cell_type": "code",
   "execution_count": 20,
   "metadata": {},
   "outputs": [],
   "source": [
    "train.to_parquet('data/training.parquet')"
   ]
  },
  {
   "cell_type": "code",
   "execution_count": 21,
   "metadata": {},
   "outputs": [],
   "source": [
    "test.to_parquet('data/testing.parquet')"
   ]
  },
  {
   "cell_type": "code",
   "execution_count": null,
   "metadata": {},
   "outputs": [],
   "source": []
  }
 ],
 "metadata": {
  "kernelspec": {
   "display_name": "Python 3",
   "language": "python",
   "name": "python3"
  },
  "language_info": {
   "codemirror_mode": {
    "name": "ipython",
    "version": 3
   },
   "file_extension": ".py",
   "mimetype": "text/x-python",
   "name": "python",
   "nbconvert_exporter": "python",
   "pygments_lexer": "ipython3",
   "version": "3.7.4"
  }
 },
 "nbformat": 4,
 "nbformat_minor": 4
}
