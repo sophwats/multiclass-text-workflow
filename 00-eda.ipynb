{
 "cells": [
  {
   "cell_type": "markdown",
   "metadata": {},
   "source": [
    "# Exploratory Data Analysis \n",
    "\n",
    "This notebook explores and transforms the data we will be using to train a multi-class classifier.\n",
    "\n",
    "**Note:** you will not be able to run this notebook yourself unless you download the [raw data](https://kdd.ics.uci.edu/databases/20newsgroups/20newsgroups.html). This notebook specifically uses the '20_newsgroups' data set. \n",
    "Downloading this data set is *not* required for the rest of the notebooks in this series, so feel free to simply read through this notebook without executing the cells. \n",
    "\n",
    "This data set consists of 20000 messages taken from 20 Usenet newsgroups."
   ]
  },
  {
   "cell_type": "markdown",
   "metadata": {},
   "source": [
    "In the next few cells we inspect the contents of some of the files."
   ]
  },
  {
   "cell_type": "code",
   "execution_count": 1,
   "metadata": {},
   "outputs": [
    {
     "name": "stdout",
     "output_type": "stream",
     "text": [
      "Xref: cantaloupe.srv.cs.cmu.edu alt.atheism:51121 soc.motss:139944 rec.scouting:5318\n",
      "Newsgroups: alt.atheism,soc.motss,rec.scouting\n",
      "Path: cantaloupe.srv.cs.cmu.edu!crabapple.srv.cs.cmu.edu!fs7.ece.cmu.edu!europa.eng.gtefsd.com!howland.reston.ans.net!wupost!uunet!newsgate.watson.ibm.com!yktnews.watson.ibm.com!watson!Watson.Ibm.Com!strom\n",
      "From: strom@Watson.Ibm.Com (Rob Strom)\n",
      "Subject: Re: [soc.motss, et al.] \"Princeton axes matching funds for Boy Scouts\"\n",
      "Sender: @watson.ibm.com\n",
      "Message-ID: <1993Apr05.180116.43346@watson.ibm.com>\n",
      "Date: Mon, 05 Apr 93 18:01:16 GMT\n",
      "Distribution: usa\n",
      "References: <C47EFs.3q47@austin.ibm.com> <1993Mar22.033150.17345@cbnewsl.cb.att.com> <N4HY.93Apr5120934@harder.ccr-p.ida.org>\n",
      "Organization: IBM Research\n",
      "Lines: 15\n",
      "\n",
      "In article <N4HY.93Apr5120934@harder.ccr-p.ida.org>, n4hy@harder.ccr-p.ida.org (Bob McGwier) writes:\n",
      "\n",
      "|> [1] HOWEVER, I hate economic terrorism and political correctness\n",
      "|> worse than I hate this policy.  \n",
      "\n",
      "\n",
      "|> [2] A more effective approach is to stop donating\n",
      "|> to ANY organizating that directly or indirectly supports gay rights issues\n",
      "|> until they end the boycott on funding of scouts.  \n",
      "\n",
      "Can somebody reconcile the apparent contradiction between [1] and [2]?\n",
      "\n",
      "-- \n",
      "Rob Strom, strom@watson.ibm.com, (914) 784-7641\n",
      "IBM Research, 30 Saw Mill River Road, P.O. Box 704, Yorktown Heights, NY  10598\n",
      "\n"
     ]
    }
   ],
   "source": [
    "f = open('./20_newsgroups/alt.atheism/51121', 'r') \n",
    "lines = f.read()\n",
    "print(lines)\n",
    "f.close()"
   ]
  },
  {
   "cell_type": "code",
   "execution_count": 2,
   "metadata": {},
   "outputs": [
    {
     "name": "stdout",
     "output_type": "stream",
     "text": [
      "Xref: cantaloupe.srv.cs.cmu.edu alt.atheism:51121 soc.motss:139944 rec.scouting:5318\n",
      "Newsgroups: alt.atheism,soc.motss,rec.scouting\n",
      "Path: cantaloupe.srv.cs.cmu.edu!crabapple.srv.cs.cmu.edu!fs7.ece.cmu.edu!europa.eng.gtefsd.com!howland.reston.ans.net!wupost!uunet!newsgate.watson.ibm.com!yktnews.watson.ibm.com!watson!Watson.Ibm.Com!strom\n",
      "From: strom@Watson.Ibm.Com (Rob Strom)\n",
      "Subject: Re: [soc.motss, et al.] \"Princeton axes matching funds for Boy Scouts\"\n",
      "Sender: @watson.ibm.com\n",
      "Message-ID: <1993Apr05.180116.43346@watson.ibm.com>\n",
      "Date: Mon, 05 Apr 93 18:01:16 GMT\n",
      "Distribution: usa\n",
      "References: <C47EFs.3q47@austin.ibm.com> <1993Mar22.033150.17345@cbnewsl.cb.att.com> <N4HY.93Apr5120934@harder.ccr-p.ida.org>\n",
      "Organization: IBM Research\n",
      "Lines: 15\n",
      "\n",
      "In article <N4HY.93Apr5120934@harder.ccr-p.ida.org>, n4hy@harder.ccr-p.ida.org (Bob McGwier) writes:\n",
      "\n",
      "|> [1] HOWEVER, I hate economic terrorism and political correctness\n",
      "|> worse than I hate this policy.  \n",
      "\n",
      "\n",
      "|> [2] A more effective approach is to stop donating\n",
      "|> to ANY organizating that directly or indirectly supports gay rights issues\n",
      "|> until they end the boycott on funding of scouts.  \n",
      "\n",
      "Can somebody reconcile the apparent contradiction between [1] and [2]?\n",
      "\n",
      "-- \n",
      "Rob Strom, strom@watson.ibm.com, (914) 784-7641\n",
      "IBM Research, 30 Saw Mill River Road, P.O. Box 704, Yorktown Heights, NY  10598\n",
      "\n"
     ]
    }
   ],
   "source": [
    "f = open('./20_newsgroups/comp.graphics/37921', 'r') \n",
    "print(lines)\n",
    "f.close()"
   ]
  },
  {
   "cell_type": "code",
   "execution_count": 3,
   "metadata": {},
   "outputs": [
    {
     "name": "stdout",
     "output_type": "stream",
     "text": [
      "Xref: cantaloupe.srv.cs.cmu.edu comp.graphics:37930 comp.unix.aix:23730\n",
      "Path: cantaloupe.srv.cs.cmu.edu!crabapple.srv.cs.cmu.edu!fs7.ece.cmu.edu!europa.eng.gtefsd.com!howland.reston.ans.net!noc.near.net!uunet!mcsun!fuug!tahko.lpr.carel.fi!tahko.lpr.carel.fi!not-for-mail\n",
      "From: ari@tahko.lpr.carel.fi (Ari Suutari)\n",
      "Newsgroups: comp.graphics,comp.unix.aix\n",
      "Subject: Any graphics packages available for AIX ?\n",
      "Date: 6 Apr 1993 10:00:38 +0300\n",
      "Organization: Carelcomp Oy\n",
      "Lines: 24\n",
      "Message-ID: <1pr9qnINNiag@tahko.lpr.carel.fi>\n",
      "NNTP-Posting-Host: tahko.lpr.carel.fi\n",
      "Keywords: gks graphics\n",
      "\n",
      "\n",
      "\tDoes anybody know if there are any good 2d-graphics packages\n",
      "\tavailable for IBM RS/6000 & AIX ? I'm looking for something\n",
      "\tlike DEC's GKS or Hewlett-Packards Starbase, both of which\n",
      "\thave reasonably good support for different output devices\n",
      "\tlike plotters, terminals, X etc.\n",
      "\n",
      "\tI have tried also xgks from X11 distribution and IBM's implementation\n",
      "\tof Phigs. Both of them work but we require more output devices\n",
      "\tthan just X-windows.\n",
      "\n",
      "\tOur salesman at IBM was not very familiar with graphics and\n",
      "\tI am not expecting for any good solutions from there.\n",
      "\n",
      "\n",
      "\t\tAri\n",
      "\n",
      "---\n",
      "\n",
      "\tAri Suutari\t\t\tari@carel.fi\n",
      "\tCarelcomp Oy\n",
      "\tLappeenranta\n",
      "\tFINLAND\n",
      "\n",
      "\n"
     ]
    }
   ],
   "source": [
    "f = open('./20_newsgroups/comp.graphics/37930', 'r') \n",
    "lines = f.read()\n",
    "print(lines)\n",
    "f.close()"
   ]
  },
  {
   "cell_type": "markdown",
   "metadata": {},
   "source": [
    "If we look at the data above we see some common themes: \n",
    "\n",
    "1. The classification is given in the 'Newsgroups' field, found in the header. (Note that some messages have multiple classifications, meaning they were cross-posted). \n",
    "    - We can also extract the classification from the file name.\n",
    "2. The message itself starts after a double line break. \n",
    "3. There is additional information in the 'Keywords' and the 'Subject' lines. \n",
    "\n",
    "We will check a few more files to see if they exhibit the same structure:"
   ]
  },
  {
   "cell_type": "code",
   "execution_count": 4,
   "metadata": {},
   "outputs": [
    {
     "name": "stdout",
     "output_type": "stream",
     "text": [
      "Path: cantaloupe.srv.cs.cmu.edu!crabapple.srv.cs.cmu.edu!fs7.ece.cmu.edu!europa.eng.gtefsd.com!gatech!asuvax!cs.utexas.edu!zaphod.mps.ohio-state.edu!saimiri.primate.wisc.edu!usenet.coe.montana.edu!news.u.washington.edu!uw-beaver!cs.ubc.ca!unixg.ubc.ca!kakwa.ucs.ualberta.ca!ersys!joth\n",
      "From: joth@ersys.edmonton.ab.ca (Joe Tham)\n",
      "Newsgroups: comp.graphics\n",
      "Subject: Where can I find SIPP?\n",
      "Message-ID: <yFXJ2B2w165w@ersys.edmonton.ab.ca>\n",
      "Date: Mon, 05 Apr 93 14:58:21 MDT\n",
      "Organization: Edmonton Remote Systems #2, Edmonton, AB, Canada\n",
      "Lines: 11\n",
      "\n",
      "        I recently got a file describing a library of rendering routines \n",
      "called SIPP (SImple Polygon Processor).  Could anyone tell me where I can \n",
      "FTP the source code and which is the newest version around?\n",
      "        Also, I've never used Renderman so I was wondering if Renderman \n",
      "is like SIPP?  ie. a library of rendering routines which one uses to make \n",
      "a program that creates the image...\n",
      "\n",
      "                                        Thanks,  Joe Tham\n",
      "\n",
      "--\n",
      "Joe Tham              joth@ersys.edmonton.ab.ca \n",
      "\n"
     ]
    }
   ],
   "source": [
    "f = open('./20_newsgroups/comp.graphics/37916', 'r') \n",
    "lines = f.read()\n",
    "print(lines)\n",
    "f.close()"
   ]
  },
  {
   "cell_type": "code",
   "execution_count": 5,
   "metadata": {},
   "outputs": [
    {
     "name": "stdout",
     "output_type": "stream",
     "text": [
      "Path: cantaloupe.srv.cs.cmu.edu!rochester!udel!gatech!howland.reston.ans.net!usc!cs.utexas.edu!qt.cs.utexas.edu!news.Brown.EDU!noc.near.net!bigboote.WPI.EDU!bigwpi.WPI.EDU!kedz\n",
      "From: kedz@bigwpi.WPI.EDU (John Kedziora)\n",
      "Newsgroups: misc.forsale\n",
      "Subject: Motorcycle wanted.\n",
      "Date: 22 Feb 1993 14:22:51 GMT\n",
      "Organization: Worcester Polytechnic Institute\n",
      "Lines: 11\n",
      "Expires: 5/1/93\n",
      "Message-ID: <1manjr$ja0@bigboote.WPI.EDU>\n",
      "NNTP-Posting-Host: bigwpi.wpi.edu\n",
      "\n",
      "Sender: \n",
      "Followup-To:kedz@wpi.wpi.edu \n",
      "Distribution: ne\n",
      "Organization: Worcester Polytechnic Institute\n",
      "Keywords: \n",
      "\n",
      "I am looking for an inexpensive motorcycle, nothing fancy, have to be able to do all maintinence my self. looking in the <$400 range.\n",
      "\n",
      "if you can help me out, GREAT!, please reply by e-mail.\n",
      "\n",
      "\n",
      "\n"
     ]
    }
   ],
   "source": [
    "f = open('./20_newsgroups/misc.forsale/70337', 'r') \n",
    "lines = f.read()\n",
    "print(lines)\n",
    "f.close()"
   ]
  },
  {
   "cell_type": "code",
   "execution_count": 6,
   "metadata": {},
   "outputs": [
    {
     "name": "stdout",
     "output_type": "stream",
     "text": [
      "Path: cantaloupe.srv.cs.cmu.edu!das-news.harvard.edu!ogicse!usenet.coe.montana.edu!decwrl!sun-barr!male.EBay.Sun.COM!dswalker!donald\n",
      "From: donald@dswalker.EBay.Sun.COM (Don Walker)\n",
      "Newsgroups: misc.forsale\n",
      "Subject: Items for SALE\n",
      "Message-ID: <1ps3s4$6g@male.EBay.Sun.COM>\n",
      "Date: 6 Apr 93 14:25:08 GMT\n",
      "Article-I.D.: male.1ps3s4$6g\n",
      "Reply-To: donald@dswalker.EBay.Sun.COM\n",
      "Distribution: world\n",
      "Organization: Sun Microsystems, Inc.\n",
      "Lines: 19\n",
      "NNTP-Posting-Host: dswalker.ebay.sun.com\n",
      "\n",
      "\n",
      "                        ITEMS FOR SALE\n",
      "\n",
      "\n",
      "\n",
      "1. Howard Miller Clock. It chimes like a grandfather clock. $250\n",
      "\n",
      "2. Painting- A Tiger in the snow. It is a beautiful painting, the tiger\n",
      "   looks like it can jump off of the canvas and get you. $200\n",
      "\n",
      "3. Mens Diamond Ring, size 10 - $500\n",
      "a. 3 rows of diamonds\n",
      "b. 18k gold\n",
      "\n",
      "Call or email me.\n",
      "\n",
      "Donald Walker\n",
      "hm 408-263-3709\n",
      "wk 408-276-3618\n",
      "\n"
     ]
    }
   ],
   "source": [
    "f = open('./20_newsgroups/misc.forsale/74797', 'r') \n",
    "lines = f.read()\n",
    "print(lines)\n",
    "f.close()"
   ]
  },
  {
   "cell_type": "markdown",
   "metadata": {},
   "source": [
    "## Transforming the data\n",
    "\n",
    "We want to store the relevant information and data in a `pandas` `DataFrame`.\n",
    "\n",
    "We will do this by first creating a list containing this information, then we will make a DataFrame from the list. \n",
    "\n",
    "For each file we \n",
    "1. extract the message by discarding everything before the first line break,\n",
    "2. extract the `Subject:` line,\n",
    "2. extract the classification from the filename. "
   ]
  },
  {
   "cell_type": "code",
   "execution_count": 7,
   "metadata": {},
   "outputs": [],
   "source": [
    "import os "
   ]
  },
  {
   "cell_type": "code",
   "execution_count": 8,
   "metadata": {},
   "outputs": [],
   "source": [
    "listOfFiles = list()\n",
    "for (dirpath, dirnames, filenames) in os.walk('./20_newsgroups'):\n",
    "    listOfFiles += [os.path.join(dirpath, file) for file in filenames]"
   ]
  },
  {
   "cell_type": "code",
   "execution_count": 9,
   "metadata": {},
   "outputs": [],
   "source": [
    "data=[]\n",
    "passed=[]\n",
    "for file in listOfFiles:\n",
    "    \n",
    "    f = open(file, 'r') \n",
    "    try:\n",
    "        lines = f.read()\n",
    "        data.append([lines.split('\\n\\n', 1)[1], lines.split('\\nSubject: ', 1)[1].split('\\n', 1)[0], file.split('/')[2]])\n",
    "    except:\n",
    "        passed.append(file.split('/')[2:])\n",
    "        pass\n",
    "    f.close()"
   ]
  },
  {
   "cell_type": "code",
   "execution_count": 10,
   "metadata": {},
   "outputs": [
    {
     "data": {
      "text/plain": [
       "19924"
      ]
     },
     "execution_count": 10,
     "metadata": {},
     "output_type": "execute_result"
    }
   ],
   "source": [
    "len(data)"
   ]
  },
  {
   "cell_type": "markdown",
   "metadata": {},
   "source": [
    "### Making a data frame"
   ]
  },
  {
   "cell_type": "code",
   "execution_count": 11,
   "metadata": {},
   "outputs": [],
   "source": [
    "import pandas as pd"
   ]
  },
  {
   "cell_type": "code",
   "execution_count": 12,
   "metadata": {},
   "outputs": [],
   "source": [
    "df = pd.DataFrame(data, columns = ['Message', 'Subject', 'Category'])"
   ]
  },
  {
   "cell_type": "code",
   "execution_count": 13,
   "metadata": {},
   "outputs": [
    {
     "data": {
      "text/html": [
       "<div>\n",
       "<style scoped>\n",
       "    .dataframe tbody tr th:only-of-type {\n",
       "        vertical-align: middle;\n",
       "    }\n",
       "\n",
       "    .dataframe tbody tr th {\n",
       "        vertical-align: top;\n",
       "    }\n",
       "\n",
       "    .dataframe thead th {\n",
       "        text-align: right;\n",
       "    }\n",
       "</style>\n",
       "<table border=\"1\" class=\"dataframe\">\n",
       "  <thead>\n",
       "    <tr style=\"text-align: right;\">\n",
       "      <th></th>\n",
       "      <th>Message</th>\n",
       "      <th>Subject</th>\n",
       "      <th>Category</th>\n",
       "    </tr>\n",
       "  </thead>\n",
       "  <tbody>\n",
       "    <tr>\n",
       "      <th>447</th>\n",
       "      <td>In article &lt;1483500349@igc.apc.org&gt;, cpr@igc.a...</td>\n",
       "      <td>Re: Ten questions about Israel</td>\n",
       "      <td>talk.politics.mideast</td>\n",
       "    </tr>\n",
       "    <tr>\n",
       "      <th>12595</th>\n",
       "      <td>In article &lt;1993Apr20.053250.24854@worak.kaist...</td>\n",
       "      <td>Re: WANTED: Multi-page GIF!!</td>\n",
       "      <td>comp.graphics</td>\n",
       "    </tr>\n",
       "    <tr>\n",
       "      <th>17806</th>\n",
       "      <td>I am going to stop reading the homosexuality p...</td>\n",
       "      <td>Re: homosexuality</td>\n",
       "      <td>soc.religion.christian</td>\n",
       "    </tr>\n",
       "    <tr>\n",
       "      <th>9822</th>\n",
       "      <td>garrod@dynamo.ecn.purdue.edu (David Garrod) wr...</td>\n",
       "      <td>Re: WACO burning</td>\n",
       "      <td>talk.politics.misc</td>\n",
       "    </tr>\n",
       "    <tr>\n",
       "      <th>1900</th>\n",
       "      <td>Sayeth sjwyrick@lbl.gov (Steve Wyrick):\\n$Anyb...</td>\n",
       "      <td>Re: Who was   or   what is   MIATA, as used in...</td>\n",
       "      <td>rec.autos</td>\n",
       "    </tr>\n",
       "    <tr>\n",
       "      <th>5561</th>\n",
       "      <td>We have heard many bad things about the ATI Ul...</td>\n",
       "      <td>So what is the fastest Windows video card for ...</td>\n",
       "      <td>comp.os.ms-windows.misc</td>\n",
       "    </tr>\n",
       "    <tr>\n",
       "      <th>10234</th>\n",
       "      <td>In article &lt;1993Apr15.164644.7348@hemlock.cray...</td>\n",
       "      <td>Re: MOTORCYCLE DETAILING TIP #18</td>\n",
       "      <td>rec.motorcycles</td>\n",
       "    </tr>\n",
       "    <tr>\n",
       "      <th>5372</th>\n",
       "      <td>I look at zApp and really liked it. However, I...</td>\n",
       "      <td>Re: GUI Application Frameworks for Windows ??</td>\n",
       "      <td>comp.os.ms-windows.misc</td>\n",
       "    </tr>\n",
       "    <tr>\n",
       "      <th>17075</th>\n",
       "      <td>In &lt;Apr.10.05.31.12.1993.14351@athos.rutgers.e...</td>\n",
       "      <td>Re: Essene New Testament</td>\n",
       "      <td>soc.religion.christian</td>\n",
       "    </tr>\n",
       "    <tr>\n",
       "      <th>2742</th>\n",
       "      <td>Hi all,  \\n\\nI have a IIsi with a floppy drive...</td>\n",
       "      <td>Replacing internal FDHD w/ floptical?</td>\n",
       "      <td>comp.sys.mac.hardware</td>\n",
       "    </tr>\n",
       "  </tbody>\n",
       "</table>\n",
       "</div>"
      ],
      "text/plain": [
       "                                                 Message  \\\n",
       "447    In article <1483500349@igc.apc.org>, cpr@igc.a...   \n",
       "12595  In article <1993Apr20.053250.24854@worak.kaist...   \n",
       "17806  I am going to stop reading the homosexuality p...   \n",
       "9822   garrod@dynamo.ecn.purdue.edu (David Garrod) wr...   \n",
       "1900   Sayeth sjwyrick@lbl.gov (Steve Wyrick):\\n$Anyb...   \n",
       "5561   We have heard many bad things about the ATI Ul...   \n",
       "10234  In article <1993Apr15.164644.7348@hemlock.cray...   \n",
       "5372   I look at zApp and really liked it. However, I...   \n",
       "17075  In <Apr.10.05.31.12.1993.14351@athos.rutgers.e...   \n",
       "2742   Hi all,  \\n\\nI have a IIsi with a floppy drive...   \n",
       "\n",
       "                                                 Subject  \\\n",
       "447                       Re: Ten questions about Israel   \n",
       "12595                       Re: WANTED: Multi-page GIF!!   \n",
       "17806                                  Re: homosexuality   \n",
       "9822                                    Re: WACO burning   \n",
       "1900   Re: Who was   or   what is   MIATA, as used in...   \n",
       "5561   So what is the fastest Windows video card for ...   \n",
       "10234                   Re: MOTORCYCLE DETAILING TIP #18   \n",
       "5372       Re: GUI Application Frameworks for Windows ??   \n",
       "17075                           Re: Essene New Testament   \n",
       "2742               Replacing internal FDHD w/ floptical?   \n",
       "\n",
       "                      Category  \n",
       "447      talk.politics.mideast  \n",
       "12595            comp.graphics  \n",
       "17806   soc.religion.christian  \n",
       "9822        talk.politics.misc  \n",
       "1900                 rec.autos  \n",
       "5561   comp.os.ms-windows.misc  \n",
       "10234          rec.motorcycles  \n",
       "5372   comp.os.ms-windows.misc  \n",
       "17075   soc.religion.christian  \n",
       "2742     comp.sys.mac.hardware  "
      ]
     },
     "execution_count": 13,
     "metadata": {},
     "output_type": "execute_result"
    }
   ],
   "source": [
    "df.sample(10)"
   ]
  },
  {
   "cell_type": "markdown",
   "metadata": {},
   "source": [
    "In the analysis and modeling in the next notebooks we want to treat the Message and the Subject in the same way. As such, we save time and computation by combining those data frame columns now:"
   ]
  },
  {
   "cell_type": "code",
   "execution_count": 14,
   "metadata": {
    "scrolled": true
   },
   "outputs": [],
   "source": [
    "df[\"Text\"]=df[\"Message\"]+df[\"Subject\"]\n",
    "df = df.drop(columns = [\"Message\", \"Subject\"])"
   ]
  },
  {
   "cell_type": "code",
   "execution_count": 15,
   "metadata": {},
   "outputs": [
    {
     "data": {
      "text/html": [
       "<div>\n",
       "<style scoped>\n",
       "    .dataframe tbody tr th:only-of-type {\n",
       "        vertical-align: middle;\n",
       "    }\n",
       "\n",
       "    .dataframe tbody tr th {\n",
       "        vertical-align: top;\n",
       "    }\n",
       "\n",
       "    .dataframe thead th {\n",
       "        text-align: right;\n",
       "    }\n",
       "</style>\n",
       "<table border=\"1\" class=\"dataframe\">\n",
       "  <thead>\n",
       "    <tr style=\"text-align: right;\">\n",
       "      <th></th>\n",
       "      <th>Category</th>\n",
       "      <th>Text</th>\n",
       "    </tr>\n",
       "  </thead>\n",
       "  <tbody>\n",
       "    <tr>\n",
       "      <th>9531</th>\n",
       "      <td>talk.politics.misc</td>\n",
       "      <td>In article &lt;1r1pit$n7k@lll-winken.llnl.gov&gt;, e...</td>\n",
       "    </tr>\n",
       "    <tr>\n",
       "      <th>11814</th>\n",
       "      <td>comp.windows.x</td>\n",
       "      <td>In article &lt;1993Apr7.044749.11770@topgun&gt;, smi...</td>\n",
       "    </tr>\n",
       "    <tr>\n",
       "      <th>17989</th>\n",
       "      <td>misc.forsale</td>\n",
       "      <td>I offer $100, shipment at seller's expense, pa...</td>\n",
       "    </tr>\n",
       "    <tr>\n",
       "      <th>15791</th>\n",
       "      <td>talk.politics.guns</td>\n",
       "      <td>In article &lt;1993Apr20.050550.4660@jupiter.sun....</td>\n",
       "    </tr>\n",
       "    <tr>\n",
       "      <th>2410</th>\n",
       "      <td>comp.sys.mac.hardware</td>\n",
       "      <td>\\nIn article &lt;1993Apr6.134746.11972@daimi.aau....</td>\n",
       "    </tr>\n",
       "    <tr>\n",
       "      <th>2837</th>\n",
       "      <td>comp.sys.mac.hardware</td>\n",
       "      <td>In article &lt;16BB1A4DF.DJCOHEN@YaleVM.YCC.Yale....</td>\n",
       "    </tr>\n",
       "    <tr>\n",
       "      <th>7250</th>\n",
       "      <td>sci.crypt</td>\n",
       "      <td>strnlght@netcom.com (David Sternlight) writes:...</td>\n",
       "    </tr>\n",
       "    <tr>\n",
       "      <th>14251</th>\n",
       "      <td>sci.electronics</td>\n",
       "      <td>The title says it all.  Contact me via EMAIL i...</td>\n",
       "    </tr>\n",
       "    <tr>\n",
       "      <th>15141</th>\n",
       "      <td>talk.politics.guns</td>\n",
       "      <td>\\nIt's worse than you show it.....look for Jan...</td>\n",
       "    </tr>\n",
       "    <tr>\n",
       "      <th>9756</th>\n",
       "      <td>talk.politics.misc</td>\n",
       "      <td>In article &lt;C5sI9G.Hx@dscomsa.desy.de&gt;, hallam...</td>\n",
       "    </tr>\n",
       "  </tbody>\n",
       "</table>\n",
       "</div>"
      ],
      "text/plain": [
       "                    Category  \\\n",
       "9531      talk.politics.misc   \n",
       "11814         comp.windows.x   \n",
       "17989           misc.forsale   \n",
       "15791     talk.politics.guns   \n",
       "2410   comp.sys.mac.hardware   \n",
       "2837   comp.sys.mac.hardware   \n",
       "7250               sci.crypt   \n",
       "14251        sci.electronics   \n",
       "15141     talk.politics.guns   \n",
       "9756      talk.politics.misc   \n",
       "\n",
       "                                                    Text  \n",
       "9531   In article <1r1pit$n7k@lll-winken.llnl.gov>, e...  \n",
       "11814  In article <1993Apr7.044749.11770@topgun>, smi...  \n",
       "17989  I offer $100, shipment at seller's expense, pa...  \n",
       "15791  In article <1993Apr20.050550.4660@jupiter.sun....  \n",
       "2410   \\nIn article <1993Apr6.134746.11972@daimi.aau....  \n",
       "2837   In article <16BB1A4DF.DJCOHEN@YaleVM.YCC.Yale....  \n",
       "7250   strnlght@netcom.com (David Sternlight) writes:...  \n",
       "14251  The title says it all.  Contact me via EMAIL i...  \n",
       "15141  \\nIt's worse than you show it.....look for Jan...  \n",
       "9756   In article <C5sI9G.Hx@dscomsa.desy.de>, hallam...  "
      ]
     },
     "execution_count": 15,
     "metadata": {},
     "output_type": "execute_result"
    }
   ],
   "source": [
    "df.sample(10)"
   ]
  },
  {
   "cell_type": "markdown",
   "metadata": {},
   "source": [
    "### Splitting the data\n",
    "\n",
    "We split the data, using 70% as a training set, and the remaining 30% as a testing set. We then save these data frames as parquet files."
   ]
  },
  {
   "cell_type": "code",
   "execution_count": 16,
   "metadata": {},
   "outputs": [],
   "source": [
    "train = df.sample(frac=0.7, random_state=504)\n",
    "test = df.drop(train.index) #everything that isn't in the test set"
   ]
  },
  {
   "cell_type": "code",
   "execution_count": 17,
   "metadata": {},
   "outputs": [
    {
     "data": {
      "text/plain": [
       "(13947, 2)"
      ]
     },
     "execution_count": 17,
     "metadata": {},
     "output_type": "execute_result"
    }
   ],
   "source": [
    "train.shape"
   ]
  },
  {
   "cell_type": "code",
   "execution_count": 18,
   "metadata": {},
   "outputs": [
    {
     "data": {
      "text/plain": [
       "(5977, 2)"
      ]
     },
     "execution_count": 18,
     "metadata": {},
     "output_type": "execute_result"
    }
   ],
   "source": [
    "test.shape"
   ]
  },
  {
   "cell_type": "code",
   "execution_count": 19,
   "metadata": {},
   "outputs": [],
   "source": [
    "train.to_parquet('data/training.parquet')"
   ]
  },
  {
   "cell_type": "code",
   "execution_count": 20,
   "metadata": {},
   "outputs": [],
   "source": [
    "test.to_parquet('data/testing.parquet')"
   ]
  },
  {
   "cell_type": "code",
   "execution_count": null,
   "metadata": {},
   "outputs": [],
   "source": []
  }
 ],
 "metadata": {
  "kernelspec": {
   "display_name": "Python 3",
   "language": "python",
   "name": "python3"
  },
  "language_info": {
   "codemirror_mode": {
    "name": "ipython",
    "version": 3
   },
   "file_extension": ".py",
   "mimetype": "text/x-python",
   "name": "python",
   "nbconvert_exporter": "python",
   "pygments_lexer": "ipython3",
   "version": "3.7.4"
  }
 },
 "nbformat": 4,
 "nbformat_minor": 4
}
