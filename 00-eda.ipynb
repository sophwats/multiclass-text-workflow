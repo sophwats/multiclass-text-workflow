{
 "cells": [
  {
   "cell_type": "markdown",
   "metadata": {},
   "source": [
    "# Exploratory Data Analysis \n",
    "\n",
    "This notebook explores and transforms the data we will be using to train a multi-class classifier.\n",
    "\n",
    "**Note:** you will not be able to run this notebook yourself unless you download the [raw data](https://kdd.ics.uci.edu/databases/20newsgroups/20newsgroups.html). This notebook specifically uses the '20_newsgroups' data set. \n",
    "Downloading this data set is *not* required for the rest of the notebooks in this series, so feel free to simply read through this notebook without executing the cells. \n",
    "\n",
    "This data set consists of 20000 messages taken from 20 Usenet newsgroups."
   ]
  },
  {
   "cell_type": "markdown",
   "metadata": {},
   "source": [
    "In the next few cells we read in and print out individual files from the data set:"
   ]
  },
  {
   "cell_type": "code",
   "execution_count": 1,
   "metadata": {},
   "outputs": [],
   "source": [
    "f = open('./20_newsgroups/alt.atheism/51121', 'r') # 'r' = read\n",
    "lines = f.read()\n",
    "print(lines)\n",
    "f.close()"
   ]
  },
  {
   "cell_type": "code",
   "execution_count": 2,
   "metadata": {},
   "outputs": [],
   "source": [
    "f = open('./20_newsgroups/comp.graphics/37921', 'r') # 'r' = read\n",
    "lines = f.read()\n",
    "print(lines)\n",
    "f.close()"
   ]
  },
  {
   "cell_type": "code",
   "execution_count": 3,
   "metadata": {},
   "outputs": [],
   "source": [
    "f = open('./20_newsgroups/comp.graphics/37930', 'r') # 'r' = read\n",
    "lines = f.read()\n",
    "print(lines)\n",
    "f.close()"
   ]
  },
  {
   "cell_type": "markdown",
   "metadata": {},
   "source": [
    "If we look at the data above we see some common themes: \n",
    "\n",
    "1. It looks like the classification is given in the 'Newsgroups' field in the header. (Note that some messages have multuiple classifications, meaning they were cross-posted). \n",
    "    - Note: We can also get this information from the file name.\n",
    "2. The message itself starts after a double line break. \n",
    "3. There is additional information in the 'Keywords' and the 'Subject' lines. \n",
    "\n",
    "We will check a few more files to see if they follow the same trends:"
   ]
  },
  {
   "cell_type": "code",
   "execution_count": 4,
   "metadata": {},
   "outputs": [],
   "source": [
    "f = open('./20_newsgroups/comp.graphics/37916', 'r') # 'r' = read\n",
    "lines = f.read()\n",
    "print(lines)\n",
    "f.close()"
   ]
  },
  {
   "cell_type": "code",
   "execution_count": 5,
   "metadata": {},
   "outputs": [],
   "source": [
    "f = open('./20_newsgroups/misc.forsale/70337', 'r') # 'r' = read\n",
    "lines = f.read()\n",
    "print(lines)\n",
    "f.close()"
   ]
  },
  {
   "cell_type": "code",
   "execution_count": 6,
   "metadata": {},
   "outputs": [
    {
     "name": "stdout",
     "output_type": "stream",
     "text": [
      "Path: cantaloupe.srv.cs.cmu.edu!das-news.harvard.edu!ogicse!usenet.coe.montana.edu!decwrl!sun-barr!male.EBay.Sun.COM!dswalker!donald\n",
      "From: donald@dswalker.EBay.Sun.COM (Don Walker)\n",
      "Newsgroups: misc.forsale\n",
      "Subject: Items for SALE\n",
      "Message-ID: <1ps3s4$6g@male.EBay.Sun.COM>\n",
      "Date: 6 Apr 93 14:25:08 GMT\n",
      "Article-I.D.: male.1ps3s4$6g\n",
      "Reply-To: donald@dswalker.EBay.Sun.COM\n",
      "Distribution: world\n",
      "Organization: Sun Microsystems, Inc.\n",
      "Lines: 19\n",
      "NNTP-Posting-Host: dswalker.ebay.sun.com\n",
      "\n",
      "\n",
      "                        ITEMS FOR SALE\n",
      "\n",
      "\n",
      "\n",
      "1. Howard Miller Clock. It chimes like a grandfather clock. $250\n",
      "\n",
      "2. Painting- A Tiger in the snow. It is a beautiful painting, the tiger\n",
      "   looks like it can jump off of the canvas and get you. $200\n",
      "\n",
      "3. Mens Diamond Ring, size 10 - $500\n",
      "a. 3 rows of diamonds\n",
      "b. 18k gold\n",
      "\n",
      "Call or email me.\n",
      "\n",
      "Donald Walker\n",
      "hm 408-263-3709\n",
      "wk 408-276-3618\n",
      "\n"
     ]
    }
   ],
   "source": [
    "f = open('./20_newsgroups/misc.forsale/74797', 'r') # 'r' = read\n",
    "lines = f.read()\n",
    "print(lines)\n",
    "f.close()"
   ]
  },
  {
   "cell_type": "markdown",
   "metadata": {},
   "source": [
    "## Transforming the data\n",
    "\n",
    "We want to put the relevant messages and data into a Pandas data frame.\n",
    "\n",
    "We will do this first by creating a list, then making a data frame from the list. \n",
    "\n",
    "For each file we \n",
    "1. extract the message by discarding everything before the first line break,\n",
    "2. extract the 'Subject:' line,\n",
    "2. extract the classification from the filename. "
   ]
  },
  {
   "cell_type": "code",
   "execution_count": 7,
   "metadata": {},
   "outputs": [],
   "source": [
    "import os "
   ]
  },
  {
   "cell_type": "code",
   "execution_count": 8,
   "metadata": {},
   "outputs": [],
   "source": [
    "listOfFiles = list()\n",
    "for (dirpath, dirnames, filenames) in os.walk('./20_newsgroups'):\n",
    "    listOfFiles += [os.path.join(dirpath, file) for file in filenames]"
   ]
  },
  {
   "cell_type": "code",
   "execution_count": 9,
   "metadata": {},
   "outputs": [],
   "source": [
    "data=[]\n",
    "passed=[]\n",
    "for file in listOfFiles:\n",
    "    \n",
    "    f = open(file, 'r') \n",
    "    try:\n",
    "        lines = f.read()\n",
    "        data.append([lines.split('\\n\\n', 1)[1], lines.split('\\nSubject: ', 1)[1].split('\\n', 1)[0], file.split('/')[2]])\n",
    "    except:\n",
    "        passed.append(file.split('/')[2:])\n",
    "        pass\n",
    "    f.close()"
   ]
  },
  {
   "cell_type": "code",
   "execution_count": 10,
   "metadata": {},
   "outputs": [
    {
     "data": {
      "text/plain": [
       "19924"
      ]
     },
     "execution_count": 10,
     "metadata": {},
     "output_type": "execute_result"
    }
   ],
   "source": [
    "len(data)"
   ]
  },
  {
   "cell_type": "code",
   "execution_count": 11,
   "metadata": {},
   "outputs": [],
   "source": [
    "### Making a data frame"
   ]
  },
  {
   "cell_type": "code",
   "execution_count": 12,
   "metadata": {},
   "outputs": [],
   "source": [
    "import pandas as pd"
   ]
  },
  {
   "cell_type": "code",
   "execution_count": 13,
   "metadata": {},
   "outputs": [],
   "source": [
    "df = pd.DataFrame(data, columns = ['Message', 'Subject', 'Category'])"
   ]
  },
  {
   "cell_type": "code",
   "execution_count": 14,
   "metadata": {},
   "outputs": [
    {
     "data": {
      "text/html": [
       "<div>\n",
       "<style scoped>\n",
       "    .dataframe tbody tr th:only-of-type {\n",
       "        vertical-align: middle;\n",
       "    }\n",
       "\n",
       "    .dataframe tbody tr th {\n",
       "        vertical-align: top;\n",
       "    }\n",
       "\n",
       "    .dataframe thead th {\n",
       "        text-align: right;\n",
       "    }\n",
       "</style>\n",
       "<table border=\"1\" class=\"dataframe\">\n",
       "  <thead>\n",
       "    <tr style=\"text-align: right;\">\n",
       "      <th></th>\n",
       "      <th>Message</th>\n",
       "      <th>Subject</th>\n",
       "      <th>Category</th>\n",
       "    </tr>\n",
       "  </thead>\n",
       "  <tbody>\n",
       "    <tr>\n",
       "      <th>162</th>\n",
       "      <td>\\n   Barf (JS) spewed forth:\\n\\n&gt;  I do (did) ...</td>\n",
       "      <td>Re: The U.S. Holocaust Memorial Museum: A Cost...</td>\n",
       "      <td>talk.politics.mideast</td>\n",
       "    </tr>\n",
       "    <tr>\n",
       "      <th>1951</th>\n",
       "      <td>ajc@philabs.philips.com (Alec Cameron) writes:...</td>\n",
       "      <td>Re: Moving sale</td>\n",
       "      <td>rec.autos</td>\n",
       "    </tr>\n",
       "    <tr>\n",
       "      <th>4064</th>\n",
       "      <td>What position does Mike Lansing play?  I ca...</td>\n",
       "      <td>Montreal Question.......</td>\n",
       "      <td>rec.sport.baseball</td>\n",
       "    </tr>\n",
       "    <tr>\n",
       "      <th>13479</th>\n",
       "      <td>\\nHi all,\\n \\n    I'm looking for some info re...</td>\n",
       "      <td>Otronics Attache luggable info needed</td>\n",
       "      <td>comp.sys.ibm.pc.hardware</td>\n",
       "    </tr>\n",
       "    <tr>\n",
       "      <th>1615</th>\n",
       "      <td>boyle@cactus.org (Craig Boyle) writes:\\n&gt;The q...</td>\n",
       "      <td>Re: Too fast</td>\n",
       "      <td>rec.autos</td>\n",
       "    </tr>\n",
       "    <tr>\n",
       "      <th>4863</th>\n",
       "      <td>Overall (career)\\n1.\\tDon Mattingly\\n2.\\tDon M...</td>\n",
       "      <td>RE:Re:ALL-TIME BEST PLAYERS</td>\n",
       "      <td>rec.sport.baseball</td>\n",
       "    </tr>\n",
       "    <tr>\n",
       "      <th>10375</th>\n",
       "      <td>In article &lt;arturo.735339956@infmx&gt; arturo@inf...</td>\n",
       "      <td>Re: Good Reasons to Wave at each other</td>\n",
       "      <td>rec.motorcycles</td>\n",
       "    </tr>\n",
       "    <tr>\n",
       "      <th>9119</th>\n",
       "      <td>In article &lt;C513wJ.75y@encore.com&gt; rcollins@ns...</td>\n",
       "      <td>Re: Top Ten Reasons Not to Aid Russians</td>\n",
       "      <td>talk.politics.misc</td>\n",
       "    </tr>\n",
       "    <tr>\n",
       "      <th>7721</th>\n",
       "      <td>In article &lt;1qsvfcINNq9v@dns1.NMSU.Edu&gt; amolit...</td>\n",
       "      <td>Re: What the clipper nay-sayers sound like to me.</td>\n",
       "      <td>sci.crypt</td>\n",
       "    </tr>\n",
       "    <tr>\n",
       "      <th>189</th>\n",
       "      <td>-+-+-+-+-+-+-+-+-+-+-+-+-+-+-+-+-+-+-+-+-+-+-+...</td>\n",
       "      <td>PUBLIC HEARINGS on Ballot Access, Vote Fraud a...</td>\n",
       "      <td>talk.politics.mideast</td>\n",
       "    </tr>\n",
       "  </tbody>\n",
       "</table>\n",
       "</div>"
      ],
      "text/plain": [
       "                                                 Message  \\\n",
       "162    \\n   Barf (JS) spewed forth:\\n\\n>  I do (did) ...   \n",
       "1951   ajc@philabs.philips.com (Alec Cameron) writes:...   \n",
       "4064      What position does Mike Lansing play?  I ca...   \n",
       "13479  \\nHi all,\\n \\n    I'm looking for some info re...   \n",
       "1615   boyle@cactus.org (Craig Boyle) writes:\\n>The q...   \n",
       "4863   Overall (career)\\n1.\\tDon Mattingly\\n2.\\tDon M...   \n",
       "10375  In article <arturo.735339956@infmx> arturo@inf...   \n",
       "9119   In article <C513wJ.75y@encore.com> rcollins@ns...   \n",
       "7721   In article <1qsvfcINNq9v@dns1.NMSU.Edu> amolit...   \n",
       "189    -+-+-+-+-+-+-+-+-+-+-+-+-+-+-+-+-+-+-+-+-+-+-+...   \n",
       "\n",
       "                                                 Subject  \\\n",
       "162    Re: The U.S. Holocaust Memorial Museum: A Cost...   \n",
       "1951                                     Re: Moving sale   \n",
       "4064                            Montreal Question.......   \n",
       "13479              Otronics Attache luggable info needed   \n",
       "1615                                        Re: Too fast   \n",
       "4863                         RE:Re:ALL-TIME BEST PLAYERS   \n",
       "10375             Re: Good Reasons to Wave at each other   \n",
       "9119             Re: Top Ten Reasons Not to Aid Russians   \n",
       "7721   Re: What the clipper nay-sayers sound like to me.   \n",
       "189    PUBLIC HEARINGS on Ballot Access, Vote Fraud a...   \n",
       "\n",
       "                       Category  \n",
       "162       talk.politics.mideast  \n",
       "1951                  rec.autos  \n",
       "4064         rec.sport.baseball  \n",
       "13479  comp.sys.ibm.pc.hardware  \n",
       "1615                  rec.autos  \n",
       "4863         rec.sport.baseball  \n",
       "10375           rec.motorcycles  \n",
       "9119         talk.politics.misc  \n",
       "7721                  sci.crypt  \n",
       "189       talk.politics.mideast  "
      ]
     },
     "execution_count": 14,
     "metadata": {},
     "output_type": "execute_result"
    }
   ],
   "source": [
    "df.sample(10)"
   ]
  },
  {
   "cell_type": "code",
   "execution_count": 15,
   "metadata": {
    "scrolled": true
   },
   "outputs": [],
   "source": [
    "df[\"Text\"]=df[\"Message\"]+df[\"Subject\"]\n",
    "df = df.drop(columns = [\"Message\", \"Subject\"])"
   ]
  },
  {
   "cell_type": "code",
   "execution_count": 16,
   "metadata": {},
   "outputs": [
    {
     "data": {
      "text/html": [
       "<div>\n",
       "<style scoped>\n",
       "    .dataframe tbody tr th:only-of-type {\n",
       "        vertical-align: middle;\n",
       "    }\n",
       "\n",
       "    .dataframe tbody tr th {\n",
       "        vertical-align: top;\n",
       "    }\n",
       "\n",
       "    .dataframe thead th {\n",
       "        text-align: right;\n",
       "    }\n",
       "</style>\n",
       "<table border=\"1\" class=\"dataframe\">\n",
       "  <thead>\n",
       "    <tr style=\"text-align: right;\">\n",
       "      <th></th>\n",
       "      <th>Category</th>\n",
       "      <th>Text</th>\n",
       "    </tr>\n",
       "  </thead>\n",
       "  <tbody>\n",
       "    <tr>\n",
       "      <th>18431</th>\n",
       "      <td>misc.forsale</td>\n",
       "      <td>\"Bare\" = case, a power supply, and a motherboa...</td>\n",
       "    </tr>\n",
       "    <tr>\n",
       "      <th>19716</th>\n",
       "      <td>talk.religion.misc</td>\n",
       "      <td>In article &lt;1qh4m5INN2pu@ctron-news.ctron.com&gt;...</td>\n",
       "    </tr>\n",
       "    <tr>\n",
       "      <th>2446</th>\n",
       "      <td>comp.sys.mac.hardware</td>\n",
       "      <td>EC&gt;It was called the Mac XL when Sculley came ...</td>\n",
       "    </tr>\n",
       "    <tr>\n",
       "      <th>18858</th>\n",
       "      <td>misc.forsale</td>\n",
       "      <td>Misc. Items for sale:\\n\\n\\nMount Plate:  Sony ...</td>\n",
       "    </tr>\n",
       "    <tr>\n",
       "      <th>19407</th>\n",
       "      <td>talk.religion.misc</td>\n",
       "      <td>kempmp@phoenix.oulu.fi (Petri Pihko) writes:\\n...</td>\n",
       "    </tr>\n",
       "    <tr>\n",
       "      <th>19061</th>\n",
       "      <td>talk.religion.misc</td>\n",
       "      <td>xcpslf@oryx.com (stephen l favor) writes:\\n: :...</td>\n",
       "    </tr>\n",
       "    <tr>\n",
       "      <th>3558</th>\n",
       "      <td>alt.atheism</td>\n",
       "      <td>&gt;&gt;&gt;&gt;&gt; On 25 Apr 93 23:26:20 GMT, bobbe@vice (R...</td>\n",
       "    </tr>\n",
       "    <tr>\n",
       "      <th>10997</th>\n",
       "      <td>comp.windows.x</td>\n",
       "      <td>\\n\\nWill there be no chance to get the Author ...</td>\n",
       "    </tr>\n",
       "    <tr>\n",
       "      <th>1630</th>\n",
       "      <td>rec.autos</td>\n",
       "      <td>daubendr@NeXTwork.Rose-Hulman.Edu (Darren R Da...</td>\n",
       "    </tr>\n",
       "    <tr>\n",
       "      <th>5047</th>\n",
       "      <td>comp.os.ms-windows.misc</td>\n",
       "      <td>\\nHello everybody,\\n\\nI am searching for (busi...</td>\n",
       "    </tr>\n",
       "  </tbody>\n",
       "</table>\n",
       "</div>"
      ],
      "text/plain": [
       "                      Category  \\\n",
       "18431             misc.forsale   \n",
       "19716       talk.religion.misc   \n",
       "2446     comp.sys.mac.hardware   \n",
       "18858             misc.forsale   \n",
       "19407       talk.religion.misc   \n",
       "19061       talk.religion.misc   \n",
       "3558               alt.atheism   \n",
       "10997           comp.windows.x   \n",
       "1630                 rec.autos   \n",
       "5047   comp.os.ms-windows.misc   \n",
       "\n",
       "                                                    Text  \n",
       "18431  \"Bare\" = case, a power supply, and a motherboa...  \n",
       "19716  In article <1qh4m5INN2pu@ctron-news.ctron.com>...  \n",
       "2446   EC>It was called the Mac XL when Sculley came ...  \n",
       "18858  Misc. Items for sale:\\n\\n\\nMount Plate:  Sony ...  \n",
       "19407  kempmp@phoenix.oulu.fi (Petri Pihko) writes:\\n...  \n",
       "19061  xcpslf@oryx.com (stephen l favor) writes:\\n: :...  \n",
       "3558   >>>>> On 25 Apr 93 23:26:20 GMT, bobbe@vice (R...  \n",
       "10997  \\n\\nWill there be no chance to get the Author ...  \n",
       "1630   daubendr@NeXTwork.Rose-Hulman.Edu (Darren R Da...  \n",
       "5047   \\nHello everybody,\\n\\nI am searching for (busi...  "
      ]
     },
     "execution_count": 16,
     "metadata": {},
     "output_type": "execute_result"
    }
   ],
   "source": [
    "df.sample(10)"
   ]
  },
  {
   "cell_type": "markdown",
   "metadata": {},
   "source": [
    "### Splitting the data\n",
    "\n",
    "We split the data, using 70% as a training set, and the remaining 30% as a testing set. We then save these data frames as parquet files."
   ]
  },
  {
   "cell_type": "code",
   "execution_count": 17,
   "metadata": {},
   "outputs": [],
   "source": [
    "train = df.sample(frac=0.7, random_state=504)\n",
    "test = df.drop(train.index) #everything that isn't in the test set"
   ]
  },
  {
   "cell_type": "code",
   "execution_count": 18,
   "metadata": {},
   "outputs": [
    {
     "data": {
      "text/plain": [
       "(13947, 2)"
      ]
     },
     "execution_count": 18,
     "metadata": {},
     "output_type": "execute_result"
    }
   ],
   "source": [
    "train.shape"
   ]
  },
  {
   "cell_type": "code",
   "execution_count": 19,
   "metadata": {},
   "outputs": [
    {
     "data": {
      "text/plain": [
       "(5977, 2)"
      ]
     },
     "execution_count": 19,
     "metadata": {},
     "output_type": "execute_result"
    }
   ],
   "source": [
    "test.shape"
   ]
  },
  {
   "cell_type": "code",
   "execution_count": 20,
   "metadata": {},
   "outputs": [],
   "source": [
    "train.to_parquet('data/training.parquet')"
   ]
  },
  {
   "cell_type": "code",
   "execution_count": 21,
   "metadata": {},
   "outputs": [],
   "source": [
    "test.to_parquet('data/testing.parquet')"
   ]
  },
  {
   "cell_type": "code",
   "execution_count": null,
   "metadata": {},
   "outputs": [],
   "source": []
  }
 ],
 "metadata": {
  "kernelspec": {
   "display_name": "Python 3",
   "language": "python",
   "name": "python3"
  },
  "language_info": {
   "codemirror_mode": {
    "name": "ipython",
    "version": 3
   },
   "file_extension": ".py",
   "mimetype": "text/x-python",
   "name": "python",
   "nbconvert_exporter": "python",
   "pygments_lexer": "ipython3",
   "version": "3.7.4"
  }
 },
 "nbformat": 4,
 "nbformat_minor": 4
}
