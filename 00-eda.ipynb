{
 "cells": [
  {
   "cell_type": "markdown",
   "metadata": {},
   "source": [
    "# Exploratory Data Analysis \n",
    "\n",
    "This notebook explores and transforms the data we will be using to train a multi-class classifier.\n",
    "\n",
    "**Note:** you will not be able to run this notebook yourself unless you download the [raw data](https://kdd.ics.uci.edu/databases/20newsgroups/20newsgroups.html). This notebook specifically uses the '20_newsgroups' data set. \n",
    "Downloading this data set is *not* required for the rest of the notebooks in this series, so feel free to simply read through this notebook without executing the cells. \n",
    "\n",
    "This data set consists of 20000 messages taken from 20 Usenet newsgroups."
   ]
  },
  {
   "cell_type": "markdown",
   "metadata": {},
   "source": [
    "In the next few cells we read in and print out individual files from the data set:"
   ]
  },
  {
   "cell_type": "code",
   "execution_count": 1,
   "metadata": {},
   "outputs": [
    {
     "name": "stdout",
     "output_type": "stream",
     "text": [
      "Xref: cantaloupe.srv.cs.cmu.edu alt.atheism:51121 soc.motss:139944 rec.scouting:5318\n",
      "Newsgroups: alt.atheism,soc.motss,rec.scouting\n",
      "Path: cantaloupe.srv.cs.cmu.edu!crabapple.srv.cs.cmu.edu!fs7.ece.cmu.edu!europa.eng.gtefsd.com!howland.reston.ans.net!wupost!uunet!newsgate.watson.ibm.com!yktnews.watson.ibm.com!watson!Watson.Ibm.Com!strom\n",
      "From: strom@Watson.Ibm.Com (Rob Strom)\n",
      "Subject: Re: [soc.motss, et al.] \"Princeton axes matching funds for Boy Scouts\"\n",
      "Sender: @watson.ibm.com\n",
      "Message-ID: <1993Apr05.180116.43346@watson.ibm.com>\n",
      "Date: Mon, 05 Apr 93 18:01:16 GMT\n",
      "Distribution: usa\n",
      "References: <C47EFs.3q47@austin.ibm.com> <1993Mar22.033150.17345@cbnewsl.cb.att.com> <N4HY.93Apr5120934@harder.ccr-p.ida.org>\n",
      "Organization: IBM Research\n",
      "Lines: 15\n",
      "\n",
      "In article <N4HY.93Apr5120934@harder.ccr-p.ida.org>, n4hy@harder.ccr-p.ida.org (Bob McGwier) writes:\n",
      "\n",
      "|> [1] HOWEVER, I hate economic terrorism and political correctness\n",
      "|> worse than I hate this policy.  \n",
      "\n",
      "\n",
      "|> [2] A more effective approach is to stop donating\n",
      "|> to ANY organizating that directly or indirectly supports gay rights issues\n",
      "|> until they end the boycott on funding of scouts.  \n",
      "\n",
      "Can somebody reconcile the apparent contradiction between [1] and [2]?\n",
      "\n",
      "-- \n",
      "Rob Strom, strom@watson.ibm.com, (914) 784-7641\n",
      "IBM Research, 30 Saw Mill River Road, P.O. Box 704, Yorktown Heights, NY  10598\n",
      "\n"
     ]
    }
   ],
   "source": [
    "f = open('./20_newsgroups/alt.atheism/51121', 'r') # 'r' = read\n",
    "lines = f.read()\n",
    "print(lines)\n",
    "f.close()"
   ]
  },
  {
   "cell_type": "code",
   "execution_count": 2,
   "metadata": {},
   "outputs": [
    {
     "name": "stdout",
     "output_type": "stream",
     "text": [
      "Xref: cantaloupe.srv.cs.cmu.edu alt.3d:2141 comp.graphics:37921\n",
      "Path: cantaloupe.srv.cs.cmu.edu!crabapple.srv.cs.cmu.edu!fs7.ece.cmu.edu!europa.eng.gtefsd.com!gatech!swrinde!zaphod.mps.ohio-state.edu!usc!elroy.jpl.nasa.gov!ames!olivea!uunet!mcsun!fuug!kiae!relcom!newsserv\n",
      "From: alex@talus.msk.su (Alex Kolesov)\n",
      "Newsgroups: alt.3d,comp.graphics\n",
      "Subject: Help on RenderMan language wanted!\n",
      "Message-ID: <9304051103.AA01274@talus.msk.su>\n",
      "Date: 5 Apr 93 11:00:50 GMT\n",
      "Sender: news-service@newcom.kiae.su\n",
      "Reply-To: alex@talus.msk.su\n",
      "Organization: unknown\n",
      "Lines: 17\n",
      "\n",
      "Hello everybody !\n",
      "\n",
      "If you are using PIXAR'S RenderMan 3D scene description language for creating 3D worlds, please, help me. \n",
      "\n",
      "I'm using RenderMan library on my NeXT but there is no documentation about NeXTSTEP version of RenderMan available. I can create very complicated scenes and render them using surface shaders, \n",
      "but I can not bring them to life by applying shadows and reflections.\n",
      "\n",
      "As far as I understand I have to define environmental and shadows maps to produce reflections and shadows, but I do not know how to use them.\n",
      "\n",
      "Any advises or simple RIB or C examples will be appreciated.\n",
      "Thanks in advance...\n",
      "\n",
      "---\n",
      "Alex Kolesov                             Moscow, Russia.\n",
      "Talus Imaging & Communications Corporation\n",
      "e-mail: <alex@talus.msk.su> \t\t(NeXT mail accepted)  \t\t\t   \n",
      ".   \n",
      "\n"
     ]
    }
   ],
   "source": [
    "f = open('./20_newsgroups/comp.graphics/37921', 'r') # 'r' = read\n",
    "lines = f.read()\n",
    "print(lines)\n",
    "f.close()"
   ]
  },
  {
   "cell_type": "code",
   "execution_count": 3,
   "metadata": {},
   "outputs": [
    {
     "name": "stdout",
     "output_type": "stream",
     "text": [
      "Xref: cantaloupe.srv.cs.cmu.edu comp.graphics:37930 comp.unix.aix:23730\n",
      "Path: cantaloupe.srv.cs.cmu.edu!crabapple.srv.cs.cmu.edu!fs7.ece.cmu.edu!europa.eng.gtefsd.com!howland.reston.ans.net!noc.near.net!uunet!mcsun!fuug!tahko.lpr.carel.fi!tahko.lpr.carel.fi!not-for-mail\n",
      "From: ari@tahko.lpr.carel.fi (Ari Suutari)\n",
      "Newsgroups: comp.graphics,comp.unix.aix\n",
      "Subject: Any graphics packages available for AIX ?\n",
      "Date: 6 Apr 1993 10:00:38 +0300\n",
      "Organization: Carelcomp Oy\n",
      "Lines: 24\n",
      "Message-ID: <1pr9qnINNiag@tahko.lpr.carel.fi>\n",
      "NNTP-Posting-Host: tahko.lpr.carel.fi\n",
      "Keywords: gks graphics\n",
      "\n",
      "\n",
      "\tDoes anybody know if there are any good 2d-graphics packages\n",
      "\tavailable for IBM RS/6000 & AIX ? I'm looking for something\n",
      "\tlike DEC's GKS or Hewlett-Packards Starbase, both of which\n",
      "\thave reasonably good support for different output devices\n",
      "\tlike plotters, terminals, X etc.\n",
      "\n",
      "\tI have tried also xgks from X11 distribution and IBM's implementation\n",
      "\tof Phigs. Both of them work but we require more output devices\n",
      "\tthan just X-windows.\n",
      "\n",
      "\tOur salesman at IBM was not very familiar with graphics and\n",
      "\tI am not expecting for any good solutions from there.\n",
      "\n",
      "\n",
      "\t\tAri\n",
      "\n",
      "---\n",
      "\n",
      "\tAri Suutari\t\t\tari@carel.fi\n",
      "\tCarelcomp Oy\n",
      "\tLappeenranta\n",
      "\tFINLAND\n",
      "\n",
      "\n"
     ]
    }
   ],
   "source": [
    "f = open('./20_newsgroups/comp.graphics/37930', 'r') # 'r' = read\n",
    "lines = f.read()\n",
    "print(lines)\n",
    "f.close()"
   ]
  },
  {
   "cell_type": "markdown",
   "metadata": {},
   "source": [
    "If we look at the data above we see some common themes: \n",
    "\n",
    "1. It looks like the classification is given in the 'Newsgroups' field in the header. (Note that some messages have multuiple classifications, meaning they were cross-posted). \n",
    "    - Note: We can also get this information from the file name.\n",
    "2. The message itself starts after a double line break. \n",
    "3. There is additional information in the 'Keywords' and the 'Subject' lines. \n",
    "\n",
    "We will check a few more files to see if they follow the same trends:"
   ]
  },
  {
   "cell_type": "code",
   "execution_count": 4,
   "metadata": {},
   "outputs": [
    {
     "name": "stdout",
     "output_type": "stream",
     "text": [
      "Path: cantaloupe.srv.cs.cmu.edu!crabapple.srv.cs.cmu.edu!fs7.ece.cmu.edu!europa.eng.gtefsd.com!gatech!asuvax!cs.utexas.edu!zaphod.mps.ohio-state.edu!saimiri.primate.wisc.edu!usenet.coe.montana.edu!news.u.washington.edu!uw-beaver!cs.ubc.ca!unixg.ubc.ca!kakwa.ucs.ualberta.ca!ersys!joth\n",
      "From: joth@ersys.edmonton.ab.ca (Joe Tham)\n",
      "Newsgroups: comp.graphics\n",
      "Subject: Where can I find SIPP?\n",
      "Message-ID: <yFXJ2B2w165w@ersys.edmonton.ab.ca>\n",
      "Date: Mon, 05 Apr 93 14:58:21 MDT\n",
      "Organization: Edmonton Remote Systems #2, Edmonton, AB, Canada\n",
      "Lines: 11\n",
      "\n",
      "        I recently got a file describing a library of rendering routines \n",
      "called SIPP (SImple Polygon Processor).  Could anyone tell me where I can \n",
      "FTP the source code and which is the newest version around?\n",
      "        Also, I've never used Renderman so I was wondering if Renderman \n",
      "is like SIPP?  ie. a library of rendering routines which one uses to make \n",
      "a program that creates the image...\n",
      "\n",
      "                                        Thanks,  Joe Tham\n",
      "\n",
      "--\n",
      "Joe Tham              joth@ersys.edmonton.ab.ca \n",
      "\n"
     ]
    }
   ],
   "source": [
    "f = open('./20_newsgroups/comp.graphics/37916', 'r') # 'r' = read\n",
    "lines = f.read()\n",
    "print(lines)\n",
    "f.close()"
   ]
  },
  {
   "cell_type": "code",
   "execution_count": 5,
   "metadata": {},
   "outputs": [
    {
     "name": "stdout",
     "output_type": "stream",
     "text": [
      "Path: cantaloupe.srv.cs.cmu.edu!rochester!udel!gatech!howland.reston.ans.net!usc!cs.utexas.edu!qt.cs.utexas.edu!news.Brown.EDU!noc.near.net!bigboote.WPI.EDU!bigwpi.WPI.EDU!kedz\n",
      "From: kedz@bigwpi.WPI.EDU (John Kedziora)\n",
      "Newsgroups: misc.forsale\n",
      "Subject: Motorcycle wanted.\n",
      "Date: 22 Feb 1993 14:22:51 GMT\n",
      "Organization: Worcester Polytechnic Institute\n",
      "Lines: 11\n",
      "Expires: 5/1/93\n",
      "Message-ID: <1manjr$ja0@bigboote.WPI.EDU>\n",
      "NNTP-Posting-Host: bigwpi.wpi.edu\n",
      "\n",
      "Sender: \n",
      "Followup-To:kedz@wpi.wpi.edu \n",
      "Distribution: ne\n",
      "Organization: Worcester Polytechnic Institute\n",
      "Keywords: \n",
      "\n",
      "I am looking for an inexpensive motorcycle, nothing fancy, have to be able to do all maintinence my self. looking in the <$400 range.\n",
      "\n",
      "if you can help me out, GREAT!, please reply by e-mail.\n",
      "\n",
      "\n",
      "\n"
     ]
    }
   ],
   "source": [
    "f = open('./20_newsgroups/misc.forsale/70337', 'r') # 'r' = read\n",
    "lines = f.read()\n",
    "print(lines)\n",
    "f.close()"
   ]
  },
  {
   "cell_type": "code",
   "execution_count": 6,
   "metadata": {},
   "outputs": [
    {
     "name": "stdout",
     "output_type": "stream",
     "text": [
      "Path: cantaloupe.srv.cs.cmu.edu!das-news.harvard.edu!ogicse!usenet.coe.montana.edu!decwrl!sun-barr!male.EBay.Sun.COM!dswalker!donald\n",
      "From: donald@dswalker.EBay.Sun.COM (Don Walker)\n",
      "Newsgroups: misc.forsale\n",
      "Subject: Items for SALE\n",
      "Message-ID: <1ps3s4$6g@male.EBay.Sun.COM>\n",
      "Date: 6 Apr 93 14:25:08 GMT\n",
      "Article-I.D.: male.1ps3s4$6g\n",
      "Reply-To: donald@dswalker.EBay.Sun.COM\n",
      "Distribution: world\n",
      "Organization: Sun Microsystems, Inc.\n",
      "Lines: 19\n",
      "NNTP-Posting-Host: dswalker.ebay.sun.com\n",
      "\n",
      "\n",
      "                        ITEMS FOR SALE\n",
      "\n",
      "\n",
      "\n",
      "1. Howard Miller Clock. It chimes like a grandfather clock. $250\n",
      "\n",
      "2. Painting- A Tiger in the snow. It is a beautiful painting, the tiger\n",
      "   looks like it can jump off of the canvas and get you. $200\n",
      "\n",
      "3. Mens Diamond Ring, size 10 - $500\n",
      "a. 3 rows of diamonds\n",
      "b. 18k gold\n",
      "\n",
      "Call or email me.\n",
      "\n",
      "Donald Walker\n",
      "hm 408-263-3709\n",
      "wk 408-276-3618\n",
      "\n"
     ]
    }
   ],
   "source": [
    "f = open('./20_newsgroups/misc.forsale/74797', 'r') # 'r' = read\n",
    "lines = f.read()\n",
    "print(lines)\n",
    "f.close()"
   ]
  },
  {
   "cell_type": "markdown",
   "metadata": {},
   "source": [
    "## Transforming the data\n",
    "\n",
    "We want to put the relevant messages and data into a Pandas data frame.\n",
    "\n",
    "We will do this first by creating a list, then making a data frame from the list. \n",
    "\n",
    "For each file we \n",
    "1. extract the message by discarding everything before the first line break,\n",
    "2. extract the 'Subject:' line,\n",
    "2. extract the classification from the filename. "
   ]
  },
  {
   "cell_type": "code",
   "execution_count": 7,
   "metadata": {},
   "outputs": [],
   "source": [
    "import os "
   ]
  },
  {
   "cell_type": "code",
   "execution_count": 8,
   "metadata": {},
   "outputs": [],
   "source": [
    "listOfFiles = list()\n",
    "for (dirpath, dirnames, filenames) in os.walk('./20_newsgroups'):\n",
    "    listOfFiles += [os.path.join(dirpath, file) for file in filenames]"
   ]
  },
  {
   "cell_type": "code",
   "execution_count": 9,
   "metadata": {},
   "outputs": [],
   "source": [
    "data=[]\n",
    "passed=[]\n",
    "for file in listOfFiles:\n",
    "    \n",
    "    f = open(file, 'r') \n",
    "    try:\n",
    "        lines = f.read()\n",
    "        data.append([lines.split('\\n\\n', 1)[1], lines.split('\\nSubject: ', 1)[1].split('\\n', 1)[0], file.split('/')[2]])\n",
    "    except:\n",
    "        passed.append(file.split('/')[2:])\n",
    "        pass\n",
    "    f.close()"
   ]
  },
  {
   "cell_type": "code",
   "execution_count": 10,
   "metadata": {},
   "outputs": [
    {
     "data": {
      "text/plain": [
       "19924"
      ]
     },
     "execution_count": 10,
     "metadata": {},
     "output_type": "execute_result"
    }
   ],
   "source": [
    "len(data)"
   ]
  },
  {
   "cell_type": "code",
   "execution_count": 11,
   "metadata": {},
   "outputs": [],
   "source": [
    "### Making a data frame"
   ]
  },
  {
   "cell_type": "code",
   "execution_count": 12,
   "metadata": {},
   "outputs": [],
   "source": [
    "import pandas as pd"
   ]
  },
  {
   "cell_type": "code",
   "execution_count": 13,
   "metadata": {},
   "outputs": [],
   "source": [
    "df = pd.DataFrame(data, columns = ['Message', 'Subject', 'Catagory'])"
   ]
  },
  {
   "cell_type": "code",
   "execution_count": 14,
   "metadata": {},
   "outputs": [
    {
     "data": {
      "text/html": [
       "<div>\n",
       "<style scoped>\n",
       "    .dataframe tbody tr th:only-of-type {\n",
       "        vertical-align: middle;\n",
       "    }\n",
       "\n",
       "    .dataframe tbody tr th {\n",
       "        vertical-align: top;\n",
       "    }\n",
       "\n",
       "    .dataframe thead th {\n",
       "        text-align: right;\n",
       "    }\n",
       "</style>\n",
       "<table border=\"1\" class=\"dataframe\">\n",
       "  <thead>\n",
       "    <tr style=\"text-align: right;\">\n",
       "      <th></th>\n",
       "      <th>Message</th>\n",
       "      <th>Subject</th>\n",
       "      <th>Catagory</th>\n",
       "    </tr>\n",
       "  </thead>\n",
       "  <tbody>\n",
       "    <tr>\n",
       "      <th>12342</th>\n",
       "      <td>\\nIn article &lt;1qvq4b$r4t@wampyr.cc.uow.edu.au&gt;...</td>\n",
       "      <td>Re: Need polygon splitting algo...</td>\n",
       "      <td>comp.graphics</td>\n",
       "    </tr>\n",
       "    <tr>\n",
       "      <th>7608</th>\n",
       "      <td>In article &lt;1r9av2$bg6@transfer.stratus.com&gt;, ...</td>\n",
       "      <td>Re: I have seen the lobby, and it is us</td>\n",
       "      <td>sci.crypt</td>\n",
       "    </tr>\n",
       "    <tr>\n",
       "      <th>18725</th>\n",
       "      <td>\\n       For Sale:  386SX-16Mz, 8 meg RAM!, 12...</td>\n",
       "      <td>386sx for sale</td>\n",
       "      <td>misc.forsale</td>\n",
       "    </tr>\n",
       "    <tr>\n",
       "      <th>19706</th>\n",
       "      <td>In article &lt;1r59na$e81@fido.asd.sgi.com&gt; lives...</td>\n",
       "      <td>Re: After 2000 years, can we say that Christia...</td>\n",
       "      <td>talk.religion.misc</td>\n",
       "    </tr>\n",
       "    <tr>\n",
       "      <th>5099</th>\n",
       "      <td>I'm searching for a phonetic TrueType font for...</td>\n",
       "      <td>Searching for a phonetic font</td>\n",
       "      <td>comp.os.ms-windows.misc</td>\n",
       "    </tr>\n",
       "    <tr>\n",
       "      <th>15853</th>\n",
       "      <td>I predict that the outcome of the study of wha...</td>\n",
       "      <td>Re: WACO: Clinton press conference, part 1</td>\n",
       "      <td>talk.politics.guns</td>\n",
       "    </tr>\n",
       "    <tr>\n",
       "      <th>11706</th>\n",
       "      <td>I am using X11R5patch23 with the R5-SUNOS5 pat...</td>\n",
       "      <td>Problem with libXmu on SUNOS5.1 and gcc</td>\n",
       "      <td>comp.windows.x</td>\n",
       "    </tr>\n",
       "    <tr>\n",
       "      <th>7810</th>\n",
       "      <td>cuffell@spot.Colorado.EDU (Tim Cuffel) writes:...</td>\n",
       "      <td>Re: disk safety measure?</td>\n",
       "      <td>sci.crypt</td>\n",
       "    </tr>\n",
       "    <tr>\n",
       "      <th>11873</th>\n",
       "      <td>Can anyone give me some information, please .....</td>\n",
       "      <td>Writing a Motif widget</td>\n",
       "      <td>comp.windows.x</td>\n",
       "    </tr>\n",
       "    <tr>\n",
       "      <th>2661</th>\n",
       "      <td>I thought I'd share a good experience, too.  I...</td>\n",
       "      <td>Re: Good APS experience</td>\n",
       "      <td>comp.sys.mac.hardware</td>\n",
       "    </tr>\n",
       "  </tbody>\n",
       "</table>\n",
       "</div>"
      ],
      "text/plain": [
       "                                                 Message  \\\n",
       "12342  \\nIn article <1qvq4b$r4t@wampyr.cc.uow.edu.au>...   \n",
       "7608   In article <1r9av2$bg6@transfer.stratus.com>, ...   \n",
       "18725  \\n       For Sale:  386SX-16Mz, 8 meg RAM!, 12...   \n",
       "19706  In article <1r59na$e81@fido.asd.sgi.com> lives...   \n",
       "5099   I'm searching for a phonetic TrueType font for...   \n",
       "15853  I predict that the outcome of the study of wha...   \n",
       "11706  I am using X11R5patch23 with the R5-SUNOS5 pat...   \n",
       "7810   cuffell@spot.Colorado.EDU (Tim Cuffel) writes:...   \n",
       "11873  Can anyone give me some information, please .....   \n",
       "2661   I thought I'd share a good experience, too.  I...   \n",
       "\n",
       "                                                 Subject  \\\n",
       "12342                 Re: Need polygon splitting algo...   \n",
       "7608             Re: I have seen the lobby, and it is us   \n",
       "18725                                     386sx for sale   \n",
       "19706  Re: After 2000 years, can we say that Christia...   \n",
       "5099                       Searching for a phonetic font   \n",
       "15853         Re: WACO: Clinton press conference, part 1   \n",
       "11706            Problem with libXmu on SUNOS5.1 and gcc   \n",
       "7810                            Re: disk safety measure?   \n",
       "11873                             Writing a Motif widget   \n",
       "2661                             Re: Good APS experience   \n",
       "\n",
       "                      Catagory  \n",
       "12342            comp.graphics  \n",
       "7608                 sci.crypt  \n",
       "18725             misc.forsale  \n",
       "19706       talk.religion.misc  \n",
       "5099   comp.os.ms-windows.misc  \n",
       "15853       talk.politics.guns  \n",
       "11706           comp.windows.x  \n",
       "7810                 sci.crypt  \n",
       "11873           comp.windows.x  \n",
       "2661     comp.sys.mac.hardware  "
      ]
     },
     "execution_count": 14,
     "metadata": {},
     "output_type": "execute_result"
    }
   ],
   "source": [
    "df.sample(10)"
   ]
  },
  {
   "cell_type": "markdown",
   "metadata": {},
   "source": [
    "### Splitting the data\n",
    "\n",
    "We split the data, using 70% as a training set, and the remaining 30% as a testing set. We then save these data frames as parquet files."
   ]
  },
  {
   "cell_type": "code",
   "execution_count": 15,
   "metadata": {},
   "outputs": [],
   "source": [
    "train = df.sample(frac=0.7, random_state=504)\n",
    "test = df.drop(train.index) #everything that isn't in the test set"
   ]
  },
  {
   "cell_type": "code",
   "execution_count": 16,
   "metadata": {},
   "outputs": [
    {
     "data": {
      "text/plain": [
       "(13947, 3)"
      ]
     },
     "execution_count": 16,
     "metadata": {},
     "output_type": "execute_result"
    }
   ],
   "source": [
    "train.shape"
   ]
  },
  {
   "cell_type": "code",
   "execution_count": 17,
   "metadata": {},
   "outputs": [
    {
     "data": {
      "text/plain": [
       "(5977, 3)"
      ]
     },
     "execution_count": 17,
     "metadata": {},
     "output_type": "execute_result"
    }
   ],
   "source": [
    "test.shape"
   ]
  },
  {
   "cell_type": "code",
   "execution_count": 18,
   "metadata": {},
   "outputs": [],
   "source": [
    "train.to_parquet('data/training.parquet')"
   ]
  },
  {
   "cell_type": "code",
   "execution_count": 19,
   "metadata": {},
   "outputs": [],
   "source": [
    "test.to_parquet('data/testing.parquet')"
   ]
  },
  {
   "cell_type": "code",
   "execution_count": null,
   "metadata": {},
   "outputs": [],
   "source": []
  }
 ],
 "metadata": {
  "kernelspec": {
   "display_name": "Python 3",
   "language": "python",
   "name": "python3"
  },
  "language_info": {
   "codemirror_mode": {
    "name": "ipython",
    "version": 3
   },
   "file_extension": ".py",
   "mimetype": "text/x-python",
   "name": "python",
   "nbconvert_exporter": "python",
   "pygments_lexer": "ipython3",
   "version": "3.7.4"
  }
 },
 "nbformat": 4,
 "nbformat_minor": 4
}
