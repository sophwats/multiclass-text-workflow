{
 "cells": [
  {
   "cell_type": "markdown",
   "metadata": {},
   "source": [
    "# Exploratory Data Analysis \n",
    "\n",
    "This notebook explores and transforms the data we will be using to train a multi-class classifier.\n",
    "\n",
    "**Note:** you will not be able to run this notebook yourself unless you download the [raw data](https://kdd.ics.uci.edu/databases/20newsgroups/20newsgroups.html). This notebook specifically uses the '20_newsgroups' data set. \n",
    "Downloading this data set is *not* required for the rest of the notebooks in this series, so feel free to simply read through this notebook without executing the cells. \n",
    "\n",
    "This data set consists of 20000 messages taken from 20 Usenet newsgroups."
   ]
  },
  {
   "cell_type": "markdown",
   "metadata": {},
   "source": [
    "In the next few cells we inspect the contents of some of the files."
   ]
  },
  {
   "cell_type": "code",
   "execution_count": 1,
   "metadata": {},
   "outputs": [],
   "source": [
    "f = open('./20_newsgroups/alt.atheism/51121', 'r') \n",
    "lines = f.read()\n",
    "print(lines)\n",
    "f.close()"
   ]
  },
  {
   "cell_type": "code",
   "execution_count": 2,
   "metadata": {},
   "outputs": [],
   "source": [
    "f = open('./20_newsgroups/comp.graphics/37921', 'r') \n",
    "print(lines)\n",
    "f.close()"
   ]
  },
  {
   "cell_type": "code",
   "execution_count": 3,
   "metadata": {},
   "outputs": [],
   "source": [
    "f = open('./20_newsgroups/comp.graphics/37930', 'r') \n",
    "lines = f.read()\n",
    "print(lines)\n",
    "f.close()"
   ]
  },
  {
   "cell_type": "markdown",
   "metadata": {},
   "source": [
    "If we look at the data above we see some common themes: \n",
    "\n",
    "1. The classification is given in the 'Newsgroups' field, found in the header. (Note that some messages have multiple classifications, meaning they were cross-posted). \n",
    "    - We can also extract the classification from the file name.\n",
    "2. The message itself starts after a double line break. \n",
    "3. There is additional information in the 'Keywords' and the 'Subject' lines. \n",
    "\n",
    "We will check a few more files to see if they exhibit the same structure:"
   ]
  },
  {
   "cell_type": "code",
   "execution_count": 4,
   "metadata": {},
   "outputs": [],
   "source": [
    "f = open('./20_newsgroups/comp.graphics/37916', 'r') \n",
    "lines = f.read()\n",
    "print(lines)\n",
    "f.close()"
   ]
  },
  {
   "cell_type": "code",
   "execution_count": 5,
   "metadata": {},
   "outputs": [],
   "source": [
    "f = open('./20_newsgroups/misc.forsale/70337', 'r') \n",
    "lines = f.read()\n",
    "print(lines)\n",
    "f.close()"
   ]
  },
  {
   "cell_type": "code",
   "execution_count": 6,
   "metadata": {},
   "outputs": [],
   "source": [
    "f = open('./20_newsgroups/misc.forsale/74797', 'r') \n",
    "lines = f.read()\n",
    "print(lines)\n",
    "f.close()"
   ]
  },
  {
   "cell_type": "markdown",
   "metadata": {},
   "source": [
    "## Transforming the data\n",
    "\n",
    "We want to store the relevant information and data in a `pandas` `DataFrame`.\n",
    "\n",
    "We will do this by first creating a list containing this information, then we will make a DataFrame from the list. \n",
    "\n",
    "For each file we \n",
    "1. extract the message by discarding everything before the first line break,\n",
    "2. extract the `Subject:` line,\n",
    "2. extract the classification from the filename. "
   ]
  },
  {
   "cell_type": "code",
   "execution_count": 7,
   "metadata": {},
   "outputs": [],
   "source": [
    "import os "
   ]
  },
  {
   "cell_type": "code",
   "execution_count": 8,
   "metadata": {},
   "outputs": [],
   "source": [
    "listOfFiles = list()\n",
    "for (dirpath, dirnames, filenames) in os.walk('./20_newsgroups'):\n",
    "    listOfFiles += [os.path.join(dirpath, file) for file in filenames]"
   ]
  },
  {
   "cell_type": "code",
   "execution_count": 9,
   "metadata": {},
   "outputs": [],
   "source": [
    "data=[]\n",
    "passed=[]\n",
    "for file in listOfFiles:\n",
    "    \n",
    "    f = open(file, 'r') \n",
    "    try:\n",
    "        lines = f.read()\n",
    "        data.append([lines.split('\\n\\n', 1)[1], lines.split('\\nSubject: ', 1)[1].split('\\n', 1)[0], file.split('/')[2]])\n",
    "    except:\n",
    "        passed.append(file.split('/')[2:])\n",
    "        pass\n",
    "    f.close()"
   ]
  },
  {
   "cell_type": "code",
   "execution_count": 10,
   "metadata": {},
   "outputs": [
    {
     "data": {
      "text/plain": [
       "19924"
      ]
     },
     "execution_count": 10,
     "metadata": {},
     "output_type": "execute_result"
    }
   ],
   "source": [
    "len(data)"
   ]
  },
  {
   "cell_type": "markdown",
   "metadata": {},
   "source": [
    "### Making a data frame"
   ]
  },
  {
   "cell_type": "code",
   "execution_count": 11,
   "metadata": {},
   "outputs": [],
   "source": [
    "import pandas as pd"
   ]
  },
  {
   "cell_type": "code",
   "execution_count": 12,
   "metadata": {},
   "outputs": [],
   "source": [
    "df = pd.DataFrame(data, columns = ['Message', 'Subject', 'Category'])"
   ]
  },
  {
   "cell_type": "code",
   "execution_count": 13,
   "metadata": {},
   "outputs": [
    {
     "data": {
      "text/html": [
       "<div>\n",
       "<style scoped>\n",
       "    .dataframe tbody tr th:only-of-type {\n",
       "        vertical-align: middle;\n",
       "    }\n",
       "\n",
       "    .dataframe tbody tr th {\n",
       "        vertical-align: top;\n",
       "    }\n",
       "\n",
       "    .dataframe thead th {\n",
       "        text-align: right;\n",
       "    }\n",
       "</style>\n",
       "<table border=\"1\" class=\"dataframe\">\n",
       "  <thead>\n",
       "    <tr style=\"text-align: right;\">\n",
       "      <th></th>\n",
       "      <th>Message</th>\n",
       "      <th>Subject</th>\n",
       "      <th>Category</th>\n",
       "    </tr>\n",
       "  </thead>\n",
       "  <tbody>\n",
       "    <tr>\n",
       "      <th>12348</th>\n",
       "      <td>\\n      I was skimming through a few gophers a...</td>\n",
       "      <td>.GIFs on a Tek401x ??</td>\n",
       "      <td>comp.graphics</td>\n",
       "    </tr>\n",
       "    <tr>\n",
       "      <th>8366</th>\n",
       "      <td>\\nIn article &lt;1993Apr30.202808.19204@ux1.cts.e...</td>\n",
       "      <td>Re: Antihistamine for sleep aid</td>\n",
       "      <td>sci.med</td>\n",
       "    </tr>\n",
       "    <tr>\n",
       "      <th>17789</th>\n",
       "      <td>[This is a response to a request for a Biblica...</td>\n",
       "      <td>Re: Satan kicked out of heaven: Biblical?</td>\n",
       "      <td>soc.religion.christian</td>\n",
       "    </tr>\n",
       "    <tr>\n",
       "      <th>3372</th>\n",
       "      <td>In &lt;sfnNTrC00WBO43LRUK@andrew.cmu.edu&gt; \"David ...</td>\n",
       "      <td>Re: After 2000 years, can we say that Christia...</td>\n",
       "      <td>alt.atheism</td>\n",
       "    </tr>\n",
       "    <tr>\n",
       "      <th>3496</th>\n",
       "      <td>In article &lt;66019@mimsy.umd.edu&gt;\\nmangoe@cs.um...</td>\n",
       "      <td>Ontology (was: Benediktine Metaphysics)</td>\n",
       "      <td>alt.atheism</td>\n",
       "    </tr>\n",
       "    <tr>\n",
       "      <th>9217</th>\n",
       "      <td>In article &lt;1993Apr21.230622.6138@gn.ecn.purdu...</td>\n",
       "      <td>Re: Who's next?  Mormons and Jews?</td>\n",
       "      <td>talk.politics.misc</td>\n",
       "    </tr>\n",
       "    <tr>\n",
       "      <th>10412</th>\n",
       "      <td>egreen@east.sun.com (Ed Green - Pixel Cruncher...</td>\n",
       "      <td>Re: Countersteering_FAQ please post</td>\n",
       "      <td>rec.motorcycles</td>\n",
       "    </tr>\n",
       "    <tr>\n",
       "      <th>9866</th>\n",
       "      <td>V2110A@VM.TEMPLE.EDU (Richard Hoenes) writes:\\...</td>\n",
       "      <td>Re: Waco Investigation Paranoia</td>\n",
       "      <td>talk.politics.misc</td>\n",
       "    </tr>\n",
       "    <tr>\n",
       "      <th>1891</th>\n",
       "      <td>I have manual transmission 5 speed. It difficu...</td>\n",
       "      <td>Manual Xmission-Advice needed...</td>\n",
       "      <td>rec.autos</td>\n",
       "    </tr>\n",
       "    <tr>\n",
       "      <th>9884</th>\n",
       "      <td>In article &lt;C5sCqI.4By@apollo.hp.com&gt; goykhman...</td>\n",
       "      <td>Re: A Message for you Mr. President: How do yo...</td>\n",
       "      <td>talk.politics.misc</td>\n",
       "    </tr>\n",
       "  </tbody>\n",
       "</table>\n",
       "</div>"
      ],
      "text/plain": [
       "                                                 Message  \\\n",
       "12348  \\n      I was skimming through a few gophers a...   \n",
       "8366   \\nIn article <1993Apr30.202808.19204@ux1.cts.e...   \n",
       "17789  [This is a response to a request for a Biblica...   \n",
       "3372   In <sfnNTrC00WBO43LRUK@andrew.cmu.edu> \"David ...   \n",
       "3496   In article <66019@mimsy.umd.edu>\\nmangoe@cs.um...   \n",
       "9217   In article <1993Apr21.230622.6138@gn.ecn.purdu...   \n",
       "10412  egreen@east.sun.com (Ed Green - Pixel Cruncher...   \n",
       "9866   V2110A@VM.TEMPLE.EDU (Richard Hoenes) writes:\\...   \n",
       "1891   I have manual transmission 5 speed. It difficu...   \n",
       "9884   In article <C5sCqI.4By@apollo.hp.com> goykhman...   \n",
       "\n",
       "                                                 Subject  \\\n",
       "12348                              .GIFs on a Tek401x ??   \n",
       "8366                     Re: Antihistamine for sleep aid   \n",
       "17789          Re: Satan kicked out of heaven: Biblical?   \n",
       "3372   Re: After 2000 years, can we say that Christia...   \n",
       "3496             Ontology (was: Benediktine Metaphysics)   \n",
       "9217                  Re: Who's next?  Mormons and Jews?   \n",
       "10412                Re: Countersteering_FAQ please post   \n",
       "9866                     Re: Waco Investigation Paranoia   \n",
       "1891                    Manual Xmission-Advice needed...   \n",
       "9884   Re: A Message for you Mr. President: How do yo...   \n",
       "\n",
       "                     Category  \n",
       "12348           comp.graphics  \n",
       "8366                  sci.med  \n",
       "17789  soc.religion.christian  \n",
       "3372              alt.atheism  \n",
       "3496              alt.atheism  \n",
       "9217       talk.politics.misc  \n",
       "10412         rec.motorcycles  \n",
       "9866       talk.politics.misc  \n",
       "1891                rec.autos  \n",
       "9884       talk.politics.misc  "
      ]
     },
     "execution_count": 13,
     "metadata": {},
     "output_type": "execute_result"
    }
   ],
   "source": [
    "df.sample(10)"
   ]
  },
  {
   "cell_type": "markdown",
   "metadata": {},
   "source": [
    "In the analysis and modeling in the next notebooks we want to treat the Message and the Subject in the same way. As such, we save time and computation by combining those data frame columns now:"
   ]
  },
  {
   "cell_type": "code",
   "execution_count": 14,
   "metadata": {
    "scrolled": true
   },
   "outputs": [],
   "source": [
    "df[\"Text\"]=df[\"Message\"]+df[\"Subject\"]\n",
    "df = df.drop(columns = [\"Message\", \"Subject\"])"
   ]
  },
  {
   "cell_type": "code",
   "execution_count": 15,
   "metadata": {},
   "outputs": [
    {
     "data": {
      "text/html": [
       "<div>\n",
       "<style scoped>\n",
       "    .dataframe tbody tr th:only-of-type {\n",
       "        vertical-align: middle;\n",
       "    }\n",
       "\n",
       "    .dataframe tbody tr th {\n",
       "        vertical-align: top;\n",
       "    }\n",
       "\n",
       "    .dataframe thead th {\n",
       "        text-align: right;\n",
       "    }\n",
       "</style>\n",
       "<table border=\"1\" class=\"dataframe\">\n",
       "  <thead>\n",
       "    <tr style=\"text-align: right;\">\n",
       "      <th></th>\n",
       "      <th>Category</th>\n",
       "      <th>Text</th>\n",
       "    </tr>\n",
       "  </thead>\n",
       "  <tbody>\n",
       "    <tr>\n",
       "      <th>10386</th>\n",
       "      <td>rec.motorcycles</td>\n",
       "      <td>In regards ot some of the posts concerning bia...</td>\n",
       "    </tr>\n",
       "    <tr>\n",
       "      <th>6290</th>\n",
       "      <td>rec.sport.hockey</td>\n",
       "      <td>In article &lt;AfnKOVK00UhB01RDtJ@andrew.cmu.edu&gt;...</td>\n",
       "    </tr>\n",
       "    <tr>\n",
       "      <th>13116</th>\n",
       "      <td>comp.sys.ibm.pc.hardware</td>\n",
       "      <td>Hello,\\n\\n   I have a Diamond Stealth VRAM car...</td>\n",
       "    </tr>\n",
       "    <tr>\n",
       "      <th>15577</th>\n",
       "      <td>talk.politics.guns</td>\n",
       "      <td>In article &lt;C6548v.JHA@noose.ecn.purdue.edu&gt; g...</td>\n",
       "    </tr>\n",
       "    <tr>\n",
       "      <th>10706</th>\n",
       "      <td>rec.motorcycles</td>\n",
       "      <td>\\nIn article &lt;1993Apr19.154020.24818@i88.isc.c...</td>\n",
       "    </tr>\n",
       "    <tr>\n",
       "      <th>17693</th>\n",
       "      <td>soc.religion.christian</td>\n",
       "      <td>In &lt;Apr.23.02.55.31.1993.3123@geneva.rutgers.e...</td>\n",
       "    </tr>\n",
       "    <tr>\n",
       "      <th>1507</th>\n",
       "      <td>rec.autos</td>\n",
       "      <td>In article &lt;1993Apr14.143750.120204@marshall.w...</td>\n",
       "    </tr>\n",
       "    <tr>\n",
       "      <th>4696</th>\n",
       "      <td>rec.sport.baseball</td>\n",
       "      <td>paula@koufax.cv.hp.com (Paul Andresen) writes:...</td>\n",
       "    </tr>\n",
       "    <tr>\n",
       "      <th>11166</th>\n",
       "      <td>comp.windows.x</td>\n",
       "      <td>Hi\\n\\nCan someone please give me some pointers...</td>\n",
       "    </tr>\n",
       "    <tr>\n",
       "      <th>17301</th>\n",
       "      <td>soc.religion.christian</td>\n",
       "      <td>In a previous article, 18669@bach.udel.edu (St...</td>\n",
       "    </tr>\n",
       "  </tbody>\n",
       "</table>\n",
       "</div>"
      ],
      "text/plain": [
       "                       Category  \\\n",
       "10386           rec.motorcycles   \n",
       "6290           rec.sport.hockey   \n",
       "13116  comp.sys.ibm.pc.hardware   \n",
       "15577        talk.politics.guns   \n",
       "10706           rec.motorcycles   \n",
       "17693    soc.religion.christian   \n",
       "1507                  rec.autos   \n",
       "4696         rec.sport.baseball   \n",
       "11166            comp.windows.x   \n",
       "17301    soc.religion.christian   \n",
       "\n",
       "                                                    Text  \n",
       "10386  In regards ot some of the posts concerning bia...  \n",
       "6290   In article <AfnKOVK00UhB01RDtJ@andrew.cmu.edu>...  \n",
       "13116  Hello,\\n\\n   I have a Diamond Stealth VRAM car...  \n",
       "15577  In article <C6548v.JHA@noose.ecn.purdue.edu> g...  \n",
       "10706  \\nIn article <1993Apr19.154020.24818@i88.isc.c...  \n",
       "17693  In <Apr.23.02.55.31.1993.3123@geneva.rutgers.e...  \n",
       "1507   In article <1993Apr14.143750.120204@marshall.w...  \n",
       "4696   paula@koufax.cv.hp.com (Paul Andresen) writes:...  \n",
       "11166  Hi\\n\\nCan someone please give me some pointers...  \n",
       "17301  In a previous article, 18669@bach.udel.edu (St...  "
      ]
     },
     "execution_count": 15,
     "metadata": {},
     "output_type": "execute_result"
    }
   ],
   "source": [
    "df.sample(10)"
   ]
  },
  {
   "cell_type": "markdown",
   "metadata": {},
   "source": [
    "### Splitting the data\n",
    "\n",
    "We split the data, using 70% as a training set, and the remaining 30% as a testing set. We then save these data frames as parquet files."
   ]
  },
  {
   "cell_type": "code",
   "execution_count": 16,
   "metadata": {},
   "outputs": [],
   "source": [
    "train = df.sample(frac=0.7, random_state=504)\n",
    "test = df.drop(train.index) #everything that isn't in the test set"
   ]
  },
  {
   "cell_type": "code",
   "execution_count": 17,
   "metadata": {},
   "outputs": [
    {
     "data": {
      "text/plain": [
       "(13947, 2)"
      ]
     },
     "execution_count": 17,
     "metadata": {},
     "output_type": "execute_result"
    }
   ],
   "source": [
    "train.shape"
   ]
  },
  {
   "cell_type": "code",
   "execution_count": 18,
   "metadata": {},
   "outputs": [
    {
     "data": {
      "text/plain": [
       "(5977, 2)"
      ]
     },
     "execution_count": 18,
     "metadata": {},
     "output_type": "execute_result"
    }
   ],
   "source": [
    "test.shape"
   ]
  },
  {
   "cell_type": "code",
   "execution_count": 19,
   "metadata": {},
   "outputs": [],
   "source": [
    "train.to_parquet('data/training.parquet')"
   ]
  },
  {
   "cell_type": "code",
   "execution_count": 20,
   "metadata": {},
   "outputs": [],
   "source": [
    "test.to_parquet('data/testing.parquet')"
   ]
  },
  {
   "cell_type": "code",
   "execution_count": null,
   "metadata": {},
   "outputs": [],
   "source": []
  }
 ],
 "metadata": {
  "kernelspec": {
   "display_name": "Python 3",
   "language": "python",
   "name": "python3"
  },
  "language_info": {
   "codemirror_mode": {
    "name": "ipython",
    "version": 3
   },
   "file_extension": ".py",
   "mimetype": "text/x-python",
   "name": "python",
   "nbconvert_exporter": "python",
   "pygments_lexer": "ipython3",
   "version": "3.7.4"
  }
 },
 "nbformat": 4,
 "nbformat_minor": 4
}
